{
 "cells": [
  {
   "cell_type": "markdown",
   "metadata": {},
   "source": [
    "# Bike Sharing in Washington D.C. in Dask\n",
    "\n",
    "Ashley O'Mahony | [ashleyomahony.com](http://ashleyomahony.com) | May 2019  \n",
    "\n",
    "***"
   ]
  },
  {
   "cell_type": "markdown",
   "metadata": {},
   "source": [
    "## Introduction"
   ]
  },
  {
   "cell_type": "markdown",
   "metadata": {},
   "source": [
    "### Objectives"
   ]
  },
  {
   "cell_type": "markdown",
   "metadata": {},
   "source": [
    "This case study of the Washington D.C Bike Sharing System aims to predict the total number of users on an hourly basis. The dataset is [available on Kaggle](https://www.kaggle.com/marklvl/bike-sharing-dataset/home). It contains usage information of years 2011 and 2012.\n",
    "\n",
    "All the files of this project are saved in a [GitHub repository](https://github.com/ashomah/Bike-Sharing-in-Washington-DC-in-Dask)."
   ]
  },
  {
   "cell_type": "markdown",
   "metadata": {},
   "source": [
    "### Libraries"
   ]
  },
  {
   "cell_type": "markdown",
   "metadata": {},
   "source": [
    "This project uses a set of libraries for data manipulation, ploting and modelling."
   ]
  },
  {
   "cell_type": "code",
   "execution_count": null,
   "metadata": {},
   "outputs": [],
   "source": [
    "# Loading Libraries\n",
    "from sklearn.model_selection import TimeSeriesSplit, cross_validate\n",
    "from sklearn.feature_selection import RFE\n",
    "from sklearn.metrics import accuracy_score\n",
    "from sklearn.metrics import mean_squared_error, r2_score\n",
    "from sklearn import datasets, linear_model\n",
    "from sklearn.model_selection import train_test_split\n",
    "import statsmodels.api as sm\n",
    "from scipy.special import boxcox1p\n",
    "from sklearn.preprocessing import PolynomialFeatures\n",
    "from sklearn import preprocessing\n",
    "import seaborn as sns\n",
    "import matplotlib.ticker as ticker\n",
    "import matplotlib.pyplot as plt\n",
    "import numpy as np\n",
    "from sklearn.model_selection import cross_val_score, cross_val_predict\n",
    "from dask_ml.linear_model import LinearRegression\n",
    "import dask.array.stats\n",
    "from dask_ml.preprocessing import DummyEncoder\n",
    "from dask_ml.preprocessing import MinMaxScaler\n",
    "from dask.distributed import Client\n",
    "import dask.dataframe as dd\n",
    "import kaggle\n",
    "import datetime\n",
    "import pandas as pd\n",
    "from sklearn.externals.joblib import parallel_backend\n",
    "import dask_xgboost\n",
    "import xgboost\n",
    "from dask_ml.xgboost import XGBRegressor\n",
    "from sklearn.externals import joblib\n",
    "from sklearn.ensemble import RandomForestRegressor\n",
    "\n",
    "pd.set_option('display.max_columns', 500)\n",
    "kaggle.api.authenticate()\n",
    "sns.set(style='white')"
   ]
  },
  {
   "cell_type": "code",
   "execution_count": null,
   "metadata": {},
   "outputs": [],
   "source": [
    "from dask.distributed import Client, progress\n",
    "client = Client()\n",
    "client"
   ]
  },
  {
   "cell_type": "markdown",
   "metadata": {},
   "source": [
    "### Data Loading"
   ]
  },
  {
   "cell_type": "markdown",
   "metadata": {},
   "source": [
    "The dataset is downloaded from Kaggle and consisting in two CSV file: `day.csv` and `hour.csv`. The files are loaded directly from the repository."
   ]
  },
  {
   "cell_type": "code",
   "execution_count": null,
   "metadata": {},
   "outputs": [],
   "source": [
    "!kaggle datasets download - d marklvl/bike-sharing-dataset - p ./assets/data\n",
    "!unzip - o ./assets/data/*.zip - d ./assets/data\n",
    "!unzip - o ./assets/data/*.zip - d ./assets/data"
   ]
  },
  {
   "cell_type": "code",
   "execution_count": null,
   "metadata": {
    "scrolled": true
   },
   "outputs": [],
   "source": [
    "hours_df = dd.from_pandas(pd.read_csv(\"./assets/data/hour.csv\", parse_dates=['dteday']),\n",
    "                          npartitions=1)\n",
    "hours_df.head()"
   ]
  },
  {
   "cell_type": "code",
   "execution_count": null,
   "metadata": {},
   "outputs": [],
   "source": [
    "days_df = dd.from_pandas(pd.read_csv(\"./assets/data/day.csv\", parse_dates=['dteday']),\n",
    "                         npartitions=1)\n",
    "days_df.head()"
   ]
  },
  {
   "cell_type": "markdown",
   "metadata": {},
   "source": [
    "## Data Preparation"
   ]
  },
  {
   "cell_type": "markdown",
   "metadata": {},
   "source": [
    "### Variables Types and Definitions"
   ]
  },
  {
   "cell_type": "markdown",
   "metadata": {},
   "source": [
    "The first stage of this analysis is to describe the dataset, understand the meaning of variable and perform the necessary adjustments to ensure that the data will be proceeded correctly during the Machine Learning process."
   ]
  },
  {
   "cell_type": "code",
   "execution_count": null,
   "metadata": {},
   "outputs": [],
   "source": [
    "# Shape of the data frame\n",
    "print('{:<9} {:>6} {:>6} {:>3} {:>6}'.format('hour.csv:',\n",
    "                                             hours_df.shape[0].compute(), 'rows |', hours_df.shape[1], 'columns'))\n",
    "print('{:<9} {:>6} {:>6} {:>3} {:>6}'.format('day.csv:',\n",
    "                                             days_df.shape[0].compute(), 'rows |', days_df.shape[1], 'columns'))"
   ]
  },
  {
   "cell_type": "code",
   "execution_count": null,
   "metadata": {},
   "outputs": [],
   "source": [
    "# Describe each variable\n",
    "def df_desc(df):\n",
    "    import pandas as pd\n",
    "    desc = pd.DataFrame({'dtype': df.dtypes,\n",
    "                         'NAs': df.isna().sum(),\n",
    "                         'Numerical': (df.dtypes != 'object') & (df.dtypes != 'datetime64[ns]') & (df.apply(lambda column: column == 0).sum() + df.apply(lambda column: column == 1).sum() != len(df)),\n",
    "                         'Boolean': df.apply(lambda column: column == 0).sum() + df.apply(lambda column: column == 1).sum() == len(df),\n",
    "                         'Categorical': df.dtypes == 'object',\n",
    "                         'Date': df.dtypes == 'datetime64[ns]',\n",
    "                         })\n",
    "    return desc"
   ]
  },
  {
   "cell_type": "code",
   "execution_count": null,
   "metadata": {},
   "outputs": [],
   "source": [
    "df_desc(days_df.compute())"
   ]
  },
  {
   "cell_type": "code",
   "execution_count": null,
   "metadata": {},
   "outputs": [],
   "source": [
    "df_desc(hours_df.compute())"
   ]
  },
  {
   "cell_type": "markdown",
   "metadata": {},
   "source": [
    "The dataset `day.csv` consists in 731 rows and 16 columns. The dataset `hour.csv` consists in 17,379 rows and 17 columns. Both datasets have the same columns, with an additional column for hours in `hour.csv`.\n",
    "\n",
    "Each row provides information for each day or each hour. None of the attributes contains any NA. Four (4) of these attributes contain decimal numbers, nine (9) contain integers, three (3) contain booleans, and one (1) contains date values stored as string."
   ]
  },
  {
   "cell_type": "markdown",
   "metadata": {},
   "source": [
    "For better readability, the columns of both data frames are renamed and data types are adjusted."
   ]
  },
  {
   "cell_type": "code",
   "execution_count": null,
   "metadata": {
    "scrolled": false
   },
   "outputs": [],
   "source": [
    "# HOURS DATASET\n",
    "# Renaming columns names to more readable names\n",
    "hours_df = hours_df.rename(columns={'instant': 'id',\n",
    "                                    'dteday': 'date',\n",
    "                                    'weathersit': 'weather_condition',\n",
    "                                    'hum': 'humidity',\n",
    "                                    'mnth': 'month',\n",
    "                                    'cnt': 'total_bikes',\n",
    "                                    'hr': 'hour',\n",
    "                                    'yr': 'year',\n",
    "                                    'temp': 'actual_temp',\n",
    "                                    'atemp': 'feeling_temp'})\n",
    "\n",
    "# Categorical variables\n",
    "hours_df = hours_df.categorize(columns=['season', 'holiday', 'weekday',\n",
    "                                        'workingday', 'weather_condition',\n",
    "                                        'month', 'year', 'hour'])\n",
    "\n",
    "# DAYS DATASET\n",
    "# Renaming columns names to more readable names\n",
    "days_df = days_df.rename(columns={'instant': 'id',\n",
    "                                  'dteday': 'date',\n",
    "                                  'weathersit': 'weather_condition',\n",
    "                                  'hum': 'humidity',\n",
    "                                  'mnth': 'month',\n",
    "                                  'cnt': 'total_bikes',\n",
    "                                  'yr': 'year',\n",
    "                                  'temp': 'actual_temp',\n",
    "                                  'atemp': 'feeling_temp'})\n",
    "\n",
    "# Categorical variables\n",
    "days_df = days_df.categorize(columns=['season', 'holiday', 'weekday',\n",
    "                                      'workingday', 'weather_condition',\n",
    "                                      'month', 'year'])"
   ]
  },
  {
   "cell_type": "code",
   "execution_count": null,
   "metadata": {},
   "outputs": [],
   "source": [
    "hours_df.head()"
   ]
  },
  {
   "cell_type": "code",
   "execution_count": null,
   "metadata": {},
   "outputs": [],
   "source": [
    "hours_df.compute().describe()"
   ]
  },
  {
   "cell_type": "code",
   "execution_count": null,
   "metadata": {},
   "outputs": [],
   "source": [
    "df_desc(days_df.compute())"
   ]
  },
  {
   "cell_type": "code",
   "execution_count": null,
   "metadata": {
    "scrolled": false
   },
   "outputs": [],
   "source": [
    "df_desc(hours_df.compute())"
   ]
  },
  {
   "cell_type": "code",
   "execution_count": null,
   "metadata": {},
   "outputs": [],
   "source": [
    "# Lists values of categorical variables\n",
    "categories = {'season': hours_df['season'].compute().unique().tolist(),\n",
    "              'year': hours_df['year'].compute().unique().tolist(),\n",
    "              'month': hours_df['month'].compute().unique().tolist(),\n",
    "              'hour': hours_df['hour'].compute().unique().tolist(),\n",
    "              'holiday': hours_df['holiday'].compute().unique().tolist(),\n",
    "              'weekday': hours_df['weekday'].compute().unique().tolist(),\n",
    "              'workingday': hours_df['workingday'].compute().unique().tolist(),\n",
    "              'weather_condition': hours_df['weather_condition'].compute().unique().tolist(),\n",
    "              }\n",
    "for i in sorted(categories.keys()):\n",
    "    print(i+\":\")\n",
    "    print(categories[i])\n",
    "    if i != sorted(categories.keys())[-1]:\n",
    "        print()"
   ]
  },
  {
   "cell_type": "code",
   "execution_count": null,
   "metadata": {
    "scrolled": false
   },
   "outputs": [],
   "source": [
    "df_desc(hours_df.compute())"
   ]
  },
  {
   "cell_type": "code",
   "execution_count": null,
   "metadata": {},
   "outputs": [],
   "source": [
    "days_df.head()"
   ]
  },
  {
   "cell_type": "code",
   "execution_count": null,
   "metadata": {},
   "outputs": [],
   "source": [
    "days_df.compute().describe()"
   ]
  },
  {
   "cell_type": "code",
   "execution_count": null,
   "metadata": {},
   "outputs": [],
   "source": [
    "# Lists values of categorical variables\n",
    "categories = {'season': days_df['season'].compute().unique().tolist(),\n",
    "              'year': days_df['year'].compute().unique().tolist(),\n",
    "              'month': days_df['month'].compute().unique().tolist(),\n",
    "              'holiday': days_df['holiday'].compute().unique().tolist(),\n",
    "              'weekday': days_df['weekday'].compute().unique().tolist(),\n",
    "              'workingday': days_df['workingday'].compute().unique().tolist(),\n",
    "              'weather_condition': days_df['weather_condition'].compute().unique().tolist(),\n",
    "              }\n",
    "for i in sorted(categories.keys()):\n",
    "    print(i+\":\")\n",
    "    print(categories[i])\n",
    "    if i != sorted(categories.keys())[-1]:\n",
    "        print()"
   ]
  },
  {
   "cell_type": "code",
   "execution_count": null,
   "metadata": {},
   "outputs": [],
   "source": [
    "df_desc(days_df.compute())"
   ]
  },
  {
   "cell_type": "markdown",
   "metadata": {},
   "source": [
    "For this study, we will only work with the dataset `hours`. The datasets contain 17 variables with no NAs:\n",
    "\n",
    "- `id`: numerical, integer values.  \n",
    "  *Record index. __This variable won't be considered in the study.__*\n",
    "  \n",
    "  \n",
    "- `date`: numerical, date values.  \n",
    "  *Date.*\n",
    "\n",
    "\n",
    "- `season`: encoded categorical, integer between 1 and 4.  \n",
    "  *Season: 2=Spring, 3=Summer, 4=Fall, 1=Winter.*  \n",
    "  *__Note: the seasons mentioned on the Kaggle page didn't correspond to the real seasons. We readjusted the parameters accordingly.__*\n",
    "\n",
    "\n",
    "- `year`: encoded categorical, integer between 0 and 1.  \n",
    "  *Year: 0=2011, 1=2012.*\n",
    "  \n",
    "  \n",
    "- `month`: encoded categorical, integer between 1 and 12.  \n",
    "  *Month.*\n",
    "  \n",
    "  \n",
    "- `hour`: encoded categorical, integer between 1 and 23.  \n",
    "  *Hour.*\n",
    "  \n",
    "  \n",
    "- `holiday`: encoded categorical, boolean.  \n",
    "  *Flag indicating if the day is a holiday.*\n",
    "\n",
    "\n",
    "- `weekday`: encoded categorical, integer between 0 and 6.  \n",
    "  *Day of the week (0=Sunday, ... 6=Saturday).*\n",
    "\n",
    "\n",
    "- `workingday`: encoded categorical, boolean.  \n",
    "  *Flag indicating if the day is a working day.*\n",
    "  \n",
    "  \n",
    "- `weather_condition`: encoded categorical, integer between 1 and 4.  \n",
    "  *Weather condition (1=Clear, 2=Mist, 3=Light Rain, 4=Heavy Rain).*\n",
    "\n",
    "\n",
    "- `actual_temp`: numerical, decimal values between 0 and 1.  \n",
    "  *Normalized temperature in Celsius (min = -16, max = +50).*\n",
    "\n",
    "\n",
    "- `feeling_temp`: numerical, decimal values between 0 and 1.  \n",
    "  *Normalized feeling temperature in Celsius (min = -8, max = +39).*\n",
    "\n",
    "\n",
    "- `humidity`: numerical, decimal values between 0 and 1.  \n",
    "  *Normalized humidity.*\n",
    "\n",
    "\n",
    "- `windspeed`: numerical, decimal values between 0 and 1.  \n",
    "  *Normalized wind speed.*\n",
    "\n",
    "\n",
    "- `casual`: numerical, integer.  \n",
    "  *Count of casual users. This variable won't be considered in the study.*\n",
    "\n",
    "\n",
    "- `registered`: numerical, integer.  \n",
    "  *Count of registered users. This variable won't be considered in the study.*\n",
    "\n",
    "\n",
    "- `total_bikes`: numerical, integer.  \n",
    "  *Count of total rental bikes (casual+registered). This is the __target variable__ of the study, the one to be modelled.*"
   ]
  },
  {
   "cell_type": "code",
   "execution_count": null,
   "metadata": {},
   "outputs": [],
   "source": [
    "# Remove variable id\n",
    "hours_df = hours_df.drop('id', axis=1)"
   ]
  },
  {
   "cell_type": "markdown",
   "metadata": {},
   "source": [
    "### Exploratory Data Analysis"
   ]
  },
  {
   "cell_type": "markdown",
   "metadata": {},
   "source": [
    "#### Bike sharing utilization over the two years"
   ]
  },
  {
   "cell_type": "markdown",
   "metadata": {},
   "source": [
    "The objective of this study is to build a model to predict the value of the variable `total_bikes`, based on the other variables available."
   ]
  },
  {
   "cell_type": "code",
   "execution_count": null,
   "metadata": {},
   "outputs": [],
   "source": [
    "# Total_bikes evolution per day\n",
    "plt.figure(figsize=(15, 5))\n",
    "sns.lineplot(x=hours_df.compute().date,\n",
    "             y=hours_df.compute().total_bikes,\n",
    "             color='steelblue')\n",
    "plt.tight_layout()"
   ]
  },
  {
   "cell_type": "markdown",
   "metadata": {},
   "source": [
    "Based on the two years dataset, it seems that the utilization of the bike sharing service has increased over the period. The number of bikes rented per day also seems to vary depending on the season, with Spring and Summer months being showing a higher utilization of the service."
   ]
  },
  {
   "cell_type": "markdown",
   "metadata": {},
   "source": [
    "#### Bike sharing utilization by Month"
   ]
  },
  {
   "cell_type": "code",
   "execution_count": null,
   "metadata": {},
   "outputs": [],
   "source": [
    "# Total_bikes by Month - Line Plot\n",
    "plt.figure(figsize=(15, 5))\n",
    "g = sns.lineplot(x=hours_df.compute().month,\n",
    "                 y=hours_df.compute().total_bikes,\n",
    "                 color='steelblue') \\\n",
    "    .axes.set_xticklabels(['Jan', 'Feb', 'Mar', 'Apr', 'May', 'Jun', 'Jul', 'Aug', 'Sep', 'Oct', 'Nov', 'Dec'])\n",
    "plt.xticks([1, 2, 3, 4, 5, 6, 7, 8, 9, 10, 11, 12])\n",
    "plt.tight_layout()"
   ]
  },
  {
   "cell_type": "code",
   "execution_count": null,
   "metadata": {
    "scrolled": true
   },
   "outputs": [],
   "source": [
    "# Total_bikes by Month - Box Plot\n",
    "plt.figure(figsize=(15, 5))\n",
    "sns.boxplot(x=hours_df.compute().month,\n",
    "            y=hours_df.compute().total_bikes,\n",
    "            color='steelblue') \\\n",
    "    .axes.set_xticklabels(['Jan', 'Feb', 'Mar', 'Apr', 'May', 'Jun', 'Jul', 'Aug', 'Sep', 'Oct', 'Nov', 'Dec'])\n",
    "plt.tight_layout()"
   ]
  },
  {
   "cell_type": "markdown",
   "metadata": {},
   "source": [
    "The average utilization per month seems to increase between April and October, with a higher variance too."
   ]
  },
  {
   "cell_type": "markdown",
   "metadata": {},
   "source": [
    "#### Bike sharing utilization by Hour"
   ]
  },
  {
   "cell_type": "code",
   "execution_count": null,
   "metadata": {
    "scrolled": true
   },
   "outputs": [],
   "source": [
    "# Total_bikes by Hour - Line Plot\n",
    "plt.figure(figsize=(15, 5))\n",
    "sns.lineplot(x=hours_df.compute().hour,\n",
    "             y=hours_df.compute().total_bikes,\n",
    "             color='steelblue')\n",
    "plt.xticks([0, 1, 2, 3, 4, 5, 6, 7, 8, 9, 10, 11, 12,\n",
    "            13, 14, 15, 16, 17, 18, 19, 20, 21, 22, 23])\n",
    "plt.tight_layout()"
   ]
  },
  {
   "cell_type": "code",
   "execution_count": null,
   "metadata": {
    "scrolled": false
   },
   "outputs": [],
   "source": [
    "# Total_bikes by Hour - Box Plot\n",
    "plt.figure(figsize=(15, 5))\n",
    "sns.boxplot(x=hours_df.compute().hour,\n",
    "            y=hours_df.compute().total_bikes,\n",
    "            color='steelblue')\n",
    "plt.tight_layout()"
   ]
  },
  {
   "cell_type": "code",
   "execution_count": null,
   "metadata": {
    "scrolled": true
   },
   "outputs": [],
   "source": [
    "# Total_bikes by Hour - Distribution\n",
    "plt.figure(figsize=(15, 5))\n",
    "sns.distplot(hours_df.compute().total_bikes,\n",
    "             bins=100,\n",
    "             color='steelblue').axes.set(xlim=(min(hours_df.compute().total_bikes), max(hours_df.compute().total_bikes)),\n",
    "                                         xticks=[0, 100, 200, 300, 400, 500, 600, 700, 800, 900, 1000])\n",
    "plt.tight_layout()"
   ]
  },
  {
   "cell_type": "markdown",
   "metadata": {},
   "source": [
    "The utilization seems really similar over the day, with 2 peaks around 8am and between 5pm and 6pm. The box plot shows potential outliers in the data, which will be removed after the Feature Construction stage. It also highlight an important variance during day time, especially at peak times. The distribution plot shows that utilization is most of the time below 40 bikes simultaneously, and can reach about 1,000 bikes."
   ]
  },
  {
   "cell_type": "markdown",
   "metadata": {},
   "source": [
    "#### Bike sharing utilization by Season"
   ]
  },
  {
   "cell_type": "code",
   "execution_count": null,
   "metadata": {
    "scrolled": true
   },
   "outputs": [],
   "source": [
    "# Total_bikes by Season - Line Plot\n",
    "plt.figure(figsize=(15, 5))\n",
    "sns.lineplot(x=hours_df.compute().season,\n",
    "             y=hours_df.compute().total_bikes,\n",
    "             color='steelblue') \\\n",
    "    .axes.set_xticklabels(['Winter', 'Spring', 'Summer', 'Fall'])\n",
    "plt.xticks([1, 2, 3, 4])\n",
    "plt.tight_layout()"
   ]
  },
  {
   "cell_type": "code",
   "execution_count": null,
   "metadata": {
    "scrolled": false
   },
   "outputs": [],
   "source": [
    "# Total_bikes by Season - Box Plot\n",
    "plt.figure(figsize=(15, 5))\n",
    "sns.boxplot(x=hours_df.compute().season,\n",
    "            y=hours_df.compute().total_bikes,\n",
    "            color='steelblue') \\\n",
    "    .axes.set_xticklabels(['Winter', 'Spring', 'Summer', 'Fall'])\n",
    "plt.tight_layout()"
   ]
  },
  {
   "cell_type": "markdown",
   "metadata": {},
   "source": [
    "Summer appears to be the high season, with Spring and Fall having similar utilization shapes. Winter logically appears to be the low season with, however, potential utilization peaks which can reach the same number of bikes than in high season."
   ]
  },
  {
   "cell_type": "markdown",
   "metadata": {},
   "source": [
    "#### Bike sharing utilization by Holiday"
   ]
  },
  {
   "cell_type": "code",
   "execution_count": null,
   "metadata": {},
   "outputs": [],
   "source": [
    "# Total_bikes by Holidays - Box Plot\n",
    "plt.figure(figsize=(15, 5))\n",
    "sns.boxplot(x=hours_df.compute().holiday,\n",
    "            y=hours_df.compute().total_bikes,\n",
    "            color='steelblue') \\\n",
    "    .axes.set_xticklabels(['Normal Day', 'Holiday'])\n",
    "plt.tight_layout()"
   ]
  },
  {
   "cell_type": "markdown",
   "metadata": {},
   "source": [
    "Utilization of bikes during holidays seems lower and with less peaks."
   ]
  },
  {
   "cell_type": "markdown",
   "metadata": {},
   "source": [
    "#### Bike sharing utilization by Weekday"
   ]
  },
  {
   "cell_type": "code",
   "execution_count": null,
   "metadata": {},
   "outputs": [],
   "source": [
    "# Total_bikes by Weekday - Line Plot\n",
    "plt.figure(figsize=(15, 5))\n",
    "sns.lineplot(x=hours_df.compute().weekday,\n",
    "             y=hours_df.compute().total_bikes,\n",
    "             color='steelblue') \\\n",
    "    .axes.set_xticklabels(['Sunday', 'Monday', 'Tuesday', 'Wednesday', 'Thursday', 'Friday', 'Saturday'])\n",
    "plt.xticks([0, 1, 2, 3, 4, 5, 6])\n",
    "plt.tight_layout()"
   ]
  },
  {
   "cell_type": "code",
   "execution_count": null,
   "metadata": {
    "scrolled": true
   },
   "outputs": [],
   "source": [
    "# Total_bikes by Weekday - Box Plot\n",
    "plt.figure(figsize=(15, 5))\n",
    "sns.boxplot(x=hours_df.compute().weekday,\n",
    "            y=hours_df.compute().total_bikes,\n",
    "            color='steelblue') \\\n",
    "    .axes.set_xticklabels(['Sunday', 'Monday', 'Tuesday', 'Wednesday', 'Thursday', 'Friday', 'Saturday'])\n",
    "plt.tight_layout()"
   ]
  },
  {
   "cell_type": "markdown",
   "metadata": {},
   "source": [
    "The average utilization per hour seems higher at the end of the week, but overall, weekends appear to have lower frequentation and weekdays have higher peaks."
   ]
  },
  {
   "cell_type": "markdown",
   "metadata": {},
   "source": [
    "#### Bike sharing utilization by Working Day"
   ]
  },
  {
   "cell_type": "code",
   "execution_count": null,
   "metadata": {},
   "outputs": [],
   "source": [
    "# Total_bikes by Working Day - Box Plot\n",
    "plt.figure(figsize=(15, 5))\n",
    "sns.boxplot(x=hours_df.compute().workingday,\n",
    "            y=hours_df.compute().total_bikes,\n",
    "            color='steelblue') \\\n",
    "    .axes.set_xticklabels(['Non Working Day', 'Working Day'])\n",
    "plt.tight_layout()"
   ]
  },
  {
   "cell_type": "markdown",
   "metadata": {},
   "source": [
    "Utilization seems higher during working days, with higher peaks."
   ]
  },
  {
   "cell_type": "markdown",
   "metadata": {},
   "source": [
    "#### Bike sharing utilization by Weather Condition"
   ]
  },
  {
   "cell_type": "code",
   "execution_count": null,
   "metadata": {},
   "outputs": [],
   "source": [
    "# Total_bikes by Weather Condition - Line Plot\n",
    "plt.figure(figsize=(15, 5))\n",
    "sns.lineplot(x=hours_df.compute().weather_condition,\n",
    "             y=hours_df.compute().total_bikes,\n",
    "             color='steelblue') \\\n",
    "    .axes.set_xticklabels(['Clear', 'Mist', 'Light Rain', 'Heavy Rain'])\n",
    "plt.xticks([1, 2, 3, 4])\n",
    "plt.tight_layout()"
   ]
  },
  {
   "cell_type": "code",
   "execution_count": null,
   "metadata": {
    "scrolled": true
   },
   "outputs": [],
   "source": [
    "# Total_bikes by Weather Condition - Box Plot\n",
    "plt.figure(figsize=(15, 5))\n",
    "sns.boxplot(x=hours_df.compute().weather_condition,\n",
    "            y=hours_df.compute().total_bikes,\n",
    "            color='steelblue') \\\n",
    "    .axes.set_xticklabels(['Clear', 'Mist', 'Light Rain', 'Heavy Rain'])\n",
    "plt.tight_layout()"
   ]
  },
  {
   "cell_type": "markdown",
   "metadata": {},
   "source": [
    "Unsurprisingly, bike sharing utilization is getting worse with bad weather."
   ]
  },
  {
   "cell_type": "markdown",
   "metadata": {},
   "source": [
    "#### Bike sharing utilization by Actual Temperature"
   ]
  },
  {
   "cell_type": "code",
   "execution_count": null,
   "metadata": {},
   "outputs": [],
   "source": [
    "# Total_bikes by Actual Temperature - Line Plot\n",
    "plt.figure(figsize=(15, 5))\n",
    "sns.lineplot(x=hours_df.compute().actual_temp,\n",
    "             y=hours_df.compute().total_bikes,\n",
    "             color='steelblue')\n",
    "plt.tight_layout()"
   ]
  },
  {
   "cell_type": "code",
   "execution_count": null,
   "metadata": {
    "scrolled": true
   },
   "outputs": [],
   "source": [
    "# Total_bikes by Actual Temperature - Box Plot\n",
    "plt.figure(figsize=(15, 5))\n",
    "sns.boxplot(x=hours_df.compute().actual_temp,\n",
    "            y=hours_df.compute().total_bikes,\n",
    "            color='steelblue')\n",
    "plt.tight_layout()"
   ]
  },
  {
   "cell_type": "markdown",
   "metadata": {},
   "source": [
    "The utilization is almost inexistant for sub-zero temperatures. It then grows with the increase of temperature, but drops down when it gets extremely hot."
   ]
  },
  {
   "cell_type": "markdown",
   "metadata": {},
   "source": [
    "#### Bike sharing utilization by Feeling Temperature"
   ]
  },
  {
   "cell_type": "code",
   "execution_count": null,
   "metadata": {},
   "outputs": [],
   "source": [
    "# Total_bikes by Feeling Temperature - Line Plot\n",
    "plt.figure(figsize=(15, 5))\n",
    "sns.lineplot(x=hours_df.compute().feeling_temp,\n",
    "             y=hours_df.compute().total_bikes,\n",
    "             color='steelblue')\n",
    "plt.tight_layout()"
   ]
  },
  {
   "cell_type": "code",
   "execution_count": null,
   "metadata": {
    "scrolled": true
   },
   "outputs": [],
   "source": [
    "# Total_bikes by Feeling Temperature - Box Plot\n",
    "plt.figure(figsize=(15, 5))\n",
    "sns.boxplot(x=hours_df.compute().feeling_temp,\n",
    "            y=hours_df.compute().total_bikes,\n",
    "            color='steelblue')\n",
    "plt.tight_layout()"
   ]
  },
  {
   "cell_type": "markdown",
   "metadata": {},
   "source": [
    "The utilization by feeling temperature follows the same rules than by actual temperature."
   ]
  },
  {
   "cell_type": "markdown",
   "metadata": {},
   "source": [
    "#### Bike sharing utilization by Humidity"
   ]
  },
  {
   "cell_type": "code",
   "execution_count": null,
   "metadata": {
    "scrolled": false
   },
   "outputs": [],
   "source": [
    "# Total_bikes by Humidity - Line Plot\n",
    "plt.figure(figsize=(15, 5))\n",
    "sns.lineplot(x=hours_df.compute().humidity,\n",
    "             y=hours_df.compute().total_bikes,\n",
    "             color='steelblue')\n",
    "plt.tight_layout()"
   ]
  },
  {
   "cell_type": "code",
   "execution_count": null,
   "metadata": {
    "scrolled": true
   },
   "outputs": [],
   "source": [
    "# Total_bikes by Humidity - Box Plot\n",
    "plt.figure(figsize=(15, 5))\n",
    "sns.boxplot(x=hours_df.compute().humidity,\n",
    "            y=hours_df.compute().total_bikes,\n",
    "            color='steelblue')\n",
    "plt.tight_layout()"
   ]
  },
  {
   "cell_type": "markdown",
   "metadata": {},
   "source": [
    "The utilization of bike sharing services is decreasing with the increase of humidity."
   ]
  },
  {
   "cell_type": "markdown",
   "metadata": {},
   "source": [
    "#### Bike sharing utilization by Wind Speed"
   ]
  },
  {
   "cell_type": "code",
   "execution_count": null,
   "metadata": {},
   "outputs": [],
   "source": [
    "# Total_bikes by Wind Speed - Line Plot\n",
    "plt.figure(figsize=(15, 5))\n",
    "sns.lineplot(x=hours_df.compute().windspeed,\n",
    "             y=hours_df.compute().total_bikes,\n",
    "             color='steelblue')\n",
    "plt.tight_layout()"
   ]
  },
  {
   "cell_type": "code",
   "execution_count": null,
   "metadata": {
    "scrolled": false
   },
   "outputs": [],
   "source": [
    "# Total_bikes by Wind Speed - Box Plot\n",
    "plt.figure(figsize=(15, 5))\n",
    "sns.boxplot(x=hours_df.compute().windspeed,\n",
    "            y=hours_df.compute().total_bikes,\n",
    "            color='steelblue')\n",
    "plt.tight_layout()"
   ]
  },
  {
   "cell_type": "markdown",
   "metadata": {},
   "source": [
    "Stronger wind seems to discourage users to use the bike sharing service."
   ]
  },
  {
   "cell_type": "markdown",
   "metadata": {},
   "source": [
    "#### Bike sharing utilization by Casual"
   ]
  },
  {
   "cell_type": "code",
   "execution_count": null,
   "metadata": {},
   "outputs": [],
   "source": [
    "# Total_bikes by Casual - Line Plot\n",
    "plt.figure(figsize=(15, 5))\n",
    "sns.lineplot(y=hours_df.compute().casual,\n",
    "             x=hours_df.compute().total_bikes,\n",
    "             color='steelblue')\n",
    "sns.lineplot(y=hours_df.compute().total_bikes,\n",
    "             x=hours_df.compute().total_bikes,\n",
    "             color='orange')\n",
    "plt.tight_layout()"
   ]
  },
  {
   "cell_type": "code",
   "execution_count": null,
   "metadata": {
    "scrolled": false
   },
   "outputs": [],
   "source": [
    "# Total_bikes by Casual - Box Plot\n",
    "plt.figure(figsize=(15, 5))\n",
    "sns.boxplot(y=hours_df.compute().casual,\n",
    "            x=hours_df.compute().total_bikes,\n",
    "            color='steelblue')\n",
    "sns.lineplot(y=hours_df.compute().total_bikes,\n",
    "             x=hours_df.compute().total_bikes,\n",
    "             color='orange')\n",
    "plt.tight_layout()"
   ]
  },
  {
   "cell_type": "markdown",
   "metadata": {},
   "source": [
    "The number of casual users seems to be quite low compared to the total users, but there are peaks of activity when total utilization reaches values between 500 and 800 bikes."
   ]
  },
  {
   "cell_type": "markdown",
   "metadata": {},
   "source": [
    "#### Bike sharing utilization by Registered"
   ]
  },
  {
   "cell_type": "code",
   "execution_count": null,
   "metadata": {},
   "outputs": [],
   "source": [
    "# Total_bikes by Registered - Line Plot\n",
    "plt.figure(figsize=(15, 5))\n",
    "sns.lineplot(y=hours_df.compute().registered,\n",
    "             x=hours_df.compute().total_bikes,\n",
    "             color='steelblue')\n",
    "sns.lineplot(y=hours_df.compute().total_bikes,\n",
    "             x=hours_df.compute().total_bikes,\n",
    "             color='orange')\n",
    "plt.tight_layout()"
   ]
  },
  {
   "cell_type": "code",
   "execution_count": null,
   "metadata": {
    "scrolled": false
   },
   "outputs": [],
   "source": [
    "# Total_bikes by Registered - Box Plot\n",
    "plt.figure(figsize=(15, 5))\n",
    "sns.boxplot(y=hours_df.compute().registered,\n",
    "            x=hours_df.compute().total_bikes,\n",
    "            color='steelblue')\n",
    "sns.lineplot(y=hours_df.compute().total_bikes,\n",
    "             x=hours_df.compute().total_bikes,\n",
    "             color='orange')\n",
    "plt.tight_layout()"
   ]
  },
  {
   "cell_type": "markdown",
   "metadata": {},
   "source": [
    "The number of registered users is usually high, compared to the total number of bikes. There are however drops between 500 and 800 total users."
   ]
  },
  {
   "cell_type": "markdown",
   "metadata": {},
   "source": [
    "#### Total_Bikes by Hour with Holiday Hue"
   ]
  },
  {
   "cell_type": "code",
   "execution_count": null,
   "metadata": {},
   "outputs": [],
   "source": [
    "plt.figure(figsize=(15, 5))\n",
    "g = sns.pointplot(y=hours_df.compute().total_bikes,\n",
    "                  x=hours_df.compute().hour,\n",
    "                  hue=hours_df.compute().holiday.astype('int'),\n",
    "                  palette='viridis',\n",
    "                  markers='.',\n",
    "                  errwidth=1.5)\n",
    "g_legend = g.axes.get_legend()\n",
    "g_labels = ['Normal Day', 'Holiday']\n",
    "for t, l in zip(g_legend.texts, g_labels):\n",
    "    t.set_text(l)\n",
    "plt.tight_layout()"
   ]
  },
  {
   "cell_type": "markdown",
   "metadata": {},
   "source": [
    "The utilization by hour during normal days differs from the utilization during holidays. During normal days, two (2) peaks are present during commute times (around 8am and 5-6pm), while during holidays, utilization is higher during the day between 10am and 8pm. Utilization during holidays also shows a higher variance."
   ]
  },
  {
   "cell_type": "markdown",
   "metadata": {},
   "source": [
    "#### Total_Bikes by Hour with Working Day Hue"
   ]
  },
  {
   "cell_type": "code",
   "execution_count": null,
   "metadata": {},
   "outputs": [],
   "source": [
    "plt.figure(figsize=(15, 5))\n",
    "g = sns.pointplot(y=hours_df.compute().total_bikes,\n",
    "                  x=hours_df.compute().hour,\n",
    "                  hue=hours_df.compute().workingday.astype('int'),\n",
    "                  palette='viridis',\n",
    "                  markers='.',\n",
    "                  errwidth=1.5)\n",
    "g_legend = g.axes.get_legend()\n",
    "g_labels = ['Non Working Day', 'Working Day']\n",
    "for t, l in zip(g_legend.texts, g_labels):\n",
    "    t.set_text(l)\n",
    "# plt.axhline(hours_df.total_bikes.mean()+0.315*hours_df.total_bikes.mean(), color='orange')\n",
    "plt.tight_layout()"
   ]
  },
  {
   "cell_type": "markdown",
   "metadata": {},
   "source": [
    "Quite similar than the utilization by holiday, the utilization by hour during working days differs from the utilization during non working days. During working days, two (2) peaks are present during commute times (around 8am and 5-6pm), while during non working days, utilization is higher during the day between 10am and 8pm. Interestingly, utilization during non working day seems to have less variance than during holidays."
   ]
  },
  {
   "cell_type": "markdown",
   "metadata": {},
   "source": [
    "#### Total_Bikes by Hour with Weekday Hue"
   ]
  },
  {
   "cell_type": "code",
   "execution_count": null,
   "metadata": {},
   "outputs": [],
   "source": [
    "plt.figure(figsize=(15, 5))\n",
    "g = sns.pointplot(y=hours_df.compute().total_bikes,\n",
    "                  x=hours_df.compute().hour,\n",
    "                  hue=hours_df.compute().weekday.astype('int'),\n",
    "                  palette='viridis',\n",
    "                  markers='.',\n",
    "                  errwidth=1.5)\n",
    "g_legend = g.axes.get_legend()\n",
    "g_labels = ['Sunday', 'Monday', 'Tuesday',\n",
    "            'Wednesday', 'Thursday', 'Friday', 'Saturday']\n",
    "# plt.axhline(hours_df.total_bikes.mean(), color='steelblue')\n",
    "# plt.axhline(hours_df.total_bikes.mean()+0.315*hours_df.total_bikes.mean(), color='orange')\n",
    "for t, l in zip(g_legend.texts, g_labels):\n",
    "    t.set_text(l)\n",
    "plt.tight_layout()"
   ]
  },
  {
   "cell_type": "markdown",
   "metadata": {},
   "source": [
    "The utilization by hour during weekdays differs from the utilization during weekends. During weekdays, two (2) peaks are present during commute times (around 8am and 5-6pm), while during weekends, utilization is higher during the day between 10am and 6pm."
   ]
  },
  {
   "cell_type": "markdown",
   "metadata": {},
   "source": [
    "#### Total_Bikes by Hour with Weekday Hue for Registered Users"
   ]
  },
  {
   "cell_type": "code",
   "execution_count": null,
   "metadata": {},
   "outputs": [],
   "source": [
    "plt.figure(figsize=(15, 5))\n",
    "g = sns.pointplot(y=hours_df.compute().registered,\n",
    "                  x=hours_df.compute().hour,\n",
    "                  hue=hours_df.compute().weekday.astype('int'),\n",
    "                  palette='viridis',\n",
    "                  markers='.',\n",
    "                  errwidth=1.5)\n",
    "g_legend = g.axes.get_legend()\n",
    "g_labels = ['Sunday', 'Monday', 'Tuesday',\n",
    "            'Wednesday', 'Thursday', 'Friday', 'Saturday']\n",
    "for t, l in zip(g_legend.texts, g_labels):\n",
    "    t.set_text(l)\n",
    "plt.tight_layout()"
   ]
  },
  {
   "cell_type": "markdown",
   "metadata": {},
   "source": [
    "Registered users seem to be responsible for the two (2) peaks during commute times. They still use the bikes during the weekends."
   ]
  },
  {
   "cell_type": "markdown",
   "metadata": {},
   "source": [
    "#### Total_Bikes by Hour with Weekday Hue for Casual Users"
   ]
  },
  {
   "cell_type": "code",
   "execution_count": null,
   "metadata": {},
   "outputs": [],
   "source": [
    "plt.figure(figsize=(15, 5))\n",
    "g = sns.pointplot(y=hours_df.compute().casual,\n",
    "                  x=hours_df.compute().hour,\n",
    "                  hue=hours_df.compute().weekday.astype('int'),\n",
    "                  palette='viridis',\n",
    "                  markers='.',\n",
    "                  errwidth=1.5)\n",
    "g_legend = g.axes.get_legend()\n",
    "g_labels = ['Sunday', 'Monday', 'Tuesday',\n",
    "            'Wednesday', 'Thursday', 'Friday', 'Saturday']\n",
    "for t, l in zip(g_legend.texts, g_labels):\n",
    "    t.set_text(l)\n",
    "plt.tight_layout()"
   ]
  },
  {
   "cell_type": "markdown",
   "metadata": {},
   "source": [
    "Casual users are mainly using the bikes during the weekends."
   ]
  },
  {
   "cell_type": "markdown",
   "metadata": {},
   "source": [
    "#### Total_Bikes by Hour with Weather Conditions Hue"
   ]
  },
  {
   "cell_type": "code",
   "execution_count": null,
   "metadata": {},
   "outputs": [],
   "source": [
    "plt.figure(figsize=(15, 5))\n",
    "g = sns.pointplot(y=hours_df.compute().total_bikes,\n",
    "                  x=hours_df.compute().hour,\n",
    "                  hue=hours_df.compute().weather_condition.astype('int'),\n",
    "                  palette='viridis',\n",
    "                  markers='.',\n",
    "                  errwidth=1.5)\n",
    "g_legend = g.axes.get_legend()\n",
    "g_labels = ['Clear', 'Mist', 'Light Rain', 'Heavy Rain']\n",
    "for t, l in zip(g_legend.texts, g_labels):\n",
    "    t.set_text(l)\n",
    "plt.tight_layout()"
   ]
  },
  {
   "cell_type": "markdown",
   "metadata": {},
   "source": [
    "The weather seems to have a consistent impact on the utilization by hour, except for mist which doesn't seem to discourage morning commuters."
   ]
  },
  {
   "cell_type": "markdown",
   "metadata": {},
   "source": [
    "#### Total_Bikes by Hour with Seasons Hue"
   ]
  },
  {
   "cell_type": "code",
   "execution_count": null,
   "metadata": {},
   "outputs": [],
   "source": [
    "plt.figure(figsize=(15, 5))\n",
    "g = sns.pointplot(y=hours_df.compute().total_bikes,\n",
    "                  x=hours_df.compute().hour,\n",
    "                  hue=hours_df.compute().season.astype('int'),\n",
    "                  palette='viridis',\n",
    "                  markers='.',\n",
    "                  errwidth=1.5)\n",
    "g_legend = g.axes.get_legend()\n",
    "g_labels = ['Winter', 'Spring', 'Summer', 'Fall']\n",
    "for t, l in zip(g_legend.texts, g_labels):\n",
    "    t.set_text(l)\n",
    "plt.tight_layout()"
   ]
  },
  {
   "cell_type": "markdown",
   "metadata": {},
   "source": [
    "The season seems to have a consistent impact on the utilization by hour, with Winter discouraging a big part of the users."
   ]
  },
  {
   "cell_type": "markdown",
   "metadata": {},
   "source": [
    "#### Humidity by Actual Temperature"
   ]
  },
  {
   "cell_type": "code",
   "execution_count": null,
   "metadata": {},
   "outputs": [],
   "source": [
    "plt.figure(figsize=(15, 5))\n",
    "sns.boxplot(x=hours_df.compute().actual_temp,\n",
    "            y=hours_df.compute().humidity,\n",
    "            color='steelblue')\n",
    "plt.tight_layout()"
   ]
  },
  {
   "cell_type": "markdown",
   "metadata": {},
   "source": [
    "The humidity seems to be changing regardless of the actual temperature, except for extreme temperature values where humidity seems to stabilize."
   ]
  },
  {
   "cell_type": "markdown",
   "metadata": {},
   "source": [
    "#### Correlation Analysis"
   ]
  },
  {
   "cell_type": "markdown",
   "metadata": {},
   "source": [
    "A correlation analysis will allow to identify relationships between the dataset variables. A plot of their distributions highlighting the value of the target variable might also reveal some patterns."
   ]
  },
  {
   "cell_type": "code",
   "execution_count": null,
   "metadata": {
    "scrolled": false
   },
   "outputs": [],
   "source": [
    "hours_df_corr = hours_df.copy()\n",
    "hours_df_corr = hours_df_corr.drop(\n",
    "    ['date', 'year', 'month', 'hour', 'casual', 'registered', 'total_bikes'], axis=1)\n",
    "for column in hours_df_corr.columns:\n",
    "    hours_df_corr[column] = hours_df_corr[column].astype('float')\n",
    "\n",
    "plt.figure(figsize=(12, 10))\n",
    "sns.heatmap(hours_df_corr.corr(),\n",
    "            cmap=sns.diverging_palette(220, 20, n=7), vmax=1.0, vmin=-1.0, linewidths=0.1,\n",
    "            annot=True, annot_kws={\"size\": 8}, square=True)"
   ]
  },
  {
   "cell_type": "code",
   "execution_count": null,
   "metadata": {
    "scrolled": false
   },
   "outputs": [],
   "source": [
    "fig = plt.figure(figsize=(15, 10))\n",
    "axs = fig.subplots(2, 4)\n",
    "\n",
    "sns.scatterplot(hours_df['actual_temp'].compute(\n",
    "), hours_df['feeling_temp'].compute(), palette=('viridis'), ax=axs[0, 0])\n",
    "\n",
    "sns.scatterplot(hours_df['humidity'].compute(\n",
    "), hours_df['windspeed'].compute(), palette=('viridis'), ax=axs[0, 1])\n",
    "\n",
    "sns.countplot(hours_df['holiday'].compute(\n",
    "), hue=hours_df['workingday'].compute(), palette=('viridis'), ax=axs[0, 2])\n",
    "axs[0, 2].set_xticklabels(labels=['Normal Day', 'Holiday'])\n",
    "g_legend = axs[0, 2].get_legend()\n",
    "g_labels = ['Non Working', 'Working']\n",
    "for t, l in zip(g_legend.texts, g_labels):\n",
    "    t.set_text(l)\n",
    "\n",
    "sns.boxplot(hours_df['weather_condition'].compute(\n",
    "), hours_df['humidity'].compute(), palette=('viridis'), ax=axs[0, 3])\n",
    "axs[0, 3].set_xticklabels(labels=['Clear', 'Mist', 'L. Rain', 'H. Rain'])\n",
    "\n",
    "sns.boxplot(hours_df['season'].compute(\n",
    "), hours_df['actual_temp'].compute(), palette=('viridis'), ax=axs[1, 0])\n",
    "axs[1, 0].set_xticklabels(labels=['Winter', 'Spring', 'Summer', 'Fall'])\n",
    "\n",
    "sns.boxplot(hours_df['season'].compute(\n",
    "), hours_df['feeling_temp'].compute(), palette=('viridis'), ax=axs[1, 1])\n",
    "axs[1, 1].set_xticklabels(labels=['Winter', 'Spring', 'Summer', 'Fall'])\n",
    "\n",
    "sns.boxplot(hours_df['season'].compute(\n",
    "), hours_df['humidity'].compute(), palette=('viridis'), ax=axs[1, 2])\n",
    "axs[1, 2].set_xticklabels(labels=['Winter', 'Spring', 'Summer', 'Fall'])\n",
    "\n",
    "sns.boxplot(hours_df['season'].compute(\n",
    "), hours_df['windspeed'].compute(), palette=('viridis'), ax=axs[1, 3])\n",
    "axs[1, 3].set_xticklabels(labels=['Winter', 'Spring', 'Summer', 'Fall'])\n",
    "\n",
    "fig.tight_layout()"
   ]
  },
  {
   "cell_type": "markdown",
   "metadata": {},
   "source": [
    "The correlation matrix shows a high correlation between `actual_temp` and `feeling_temp`. Thus, only the `actual_temp` variable will be used in the study, and the `feeling_temp` will be removed from the dataset.\n",
    "\n",
    "Another interesting relationship exists between `holiday` and `workingday`. Every holiday is a non-working day. Based on previous plots, the utilization of bikes per hour based on `workingday` seems to be more stable than based on `holiday`, thus the variable `holiday` will be removed.\n",
    "\n",
    "Some other logical correlations can be found between meteorological conditions and seasons, but they are not strong enough to lighten the dataset."
   ]
  },
  {
   "cell_type": "markdown",
   "metadata": {},
   "source": [
    "### Scaling"
   ]
  },
  {
   "cell_type": "code",
   "execution_count": null,
   "metadata": {},
   "outputs": [],
   "source": [
    "hours_prep_scaled = hours_df.copy().drop(\n",
    "    ['date', 'casual', 'registered', 'holiday', 'feeling_temp'], axis=1)"
   ]
  },
  {
   "cell_type": "code",
   "execution_count": null,
   "metadata": {
    "scrolled": true
   },
   "outputs": [],
   "source": [
    "hours_prep_scaled.compute().describe()"
   ]
  },
  {
   "cell_type": "code",
   "execution_count": null,
   "metadata": {},
   "outputs": [],
   "source": [
    "scaler = MinMaxScaler()\n",
    "hours_prep_scaled[['actual_temp', 'humidity', 'windspeed', 'total_bikes']] = scaler.fit_transform(\n",
    "    hours_prep_scaled[['actual_temp', 'humidity', 'windspeed', 'total_bikes']])\n",
    "hours_prep_scaled.compute().describe()"
   ]
  },
  {
   "cell_type": "code",
   "execution_count": null,
   "metadata": {},
   "outputs": [],
   "source": [
    "hours_df_num = hours_df.select_dtypes(include=['float64', 'int64'])\n",
    "hours_prep_scaled.compute().hist(figsize=(15, 5), bins=50,\n",
    "                                 xlabelsize=3, ylabelsize=3, color='steelblue')\n",
    "plt.tight_layout()"
   ]
  },
  {
   "cell_type": "markdown",
   "metadata": {},
   "source": [
    "The scale of the dataset is corrected."
   ]
  },
  {
   "cell_type": "markdown",
   "metadata": {},
   "source": [
    "### Encoding Categorical Variables"
   ]
  },
  {
   "cell_type": "code",
   "execution_count": null,
   "metadata": {},
   "outputs": [],
   "source": [
    "hours_prep_encoded = hours_prep_scaled.copy()\n",
    "df_desc(hours_prep_encoded.compute())"
   ]
  },
  {
   "cell_type": "code",
   "execution_count": null,
   "metadata": {},
   "outputs": [],
   "source": [
    "def date_features(df):\n",
    "    columns = df.columns\n",
    "    return df.select_dtypes(include=[np.datetime64]).columns\n",
    "\n",
    "\n",
    "def numerical_features(df):\n",
    "    columns = df.columns\n",
    "    return df._get_numeric_data().columns\n",
    "\n",
    "\n",
    "def categorical_features(df):\n",
    "    numerical_columns = numerical_features(df)\n",
    "    date_columns = date_features(df)\n",
    "    return(list(set(df.columns) - set(numerical_columns) - set(date_columns)))\n",
    "\n",
    "\n",
    "def onehot_encode(df):\n",
    "    #     numericals = numerical_features(df)\n",
    "    #     new_df = numericals.copy()\n",
    "    new_df = df.copy()\n",
    "    new_df = DummyEncoder().fit_transform(new_df)  # [categorical_column])\n",
    "    return new_df\n",
    "\n",
    "\n",
    "def onehot_encode_single(df, col_to_encode, drop=True):\n",
    "    if type(col_to_encode) != str:\n",
    "        raise TypeError('col_to_encode should be a string.')\n",
    "    new_df = df.copy()\n",
    "\n",
    "    if drop == True:\n",
    "        new_df = new_df.drop([col_to_encode], axis=1)\n",
    "\n",
    "    new_df = dd.concat([new_df,\n",
    "                        DummyEncoder().fit_transform(df[col_to_encode].to_frame())],\n",
    "                       interleave_partitions=True)\n",
    "    return new_df"
   ]
  },
  {
   "cell_type": "code",
   "execution_count": null,
   "metadata": {
    "scrolled": true
   },
   "outputs": [],
   "source": [
    "hours_clean = onehot_encode(hours_prep_encoded)\n",
    "df_desc(hours_clean.compute())"
   ]
  },
  {
   "cell_type": "code",
   "execution_count": null,
   "metadata": {},
   "outputs": [],
   "source": [
    "# Rename columns\n",
    "hours_clean = hours_clean.rename(columns={'year_0': 'year_2011',\n",
    "                                          'year_1': 'year_2012',\n",
    "                                          'season_1': 'season_winter',\n",
    "                                          'season_2': 'season_spring',\n",
    "                                          'season_3': 'season_summer',\n",
    "                                          'season_4': 'season_fall',\n",
    "                                          'workingday_0': 'workingday_no',\n",
    "                                          'workingday_1': 'workingday_yes',\n",
    "                                          'month_1': 'month_jan',\n",
    "                                          'month_2': 'month_feb',\n",
    "                                          'month_3': 'month_mar',\n",
    "                                          'month_4': 'month_apr',\n",
    "                                          'month_5': 'month_may',\n",
    "                                          'month_6': 'month_jun',\n",
    "                                          'month_7': 'month_jul',\n",
    "                                          'month_8': 'month_aug',\n",
    "                                          'month_9': 'month_sep',\n",
    "                                          'month_10': 'month_oct',\n",
    "                                          'month_11': 'month_nov',\n",
    "                                          'month_12': 'month_dec',\n",
    "                                          'weather_condition_1': 'weather_condition_clear',\n",
    "                                          'weather_condition_2': 'weather_condition_mist',\n",
    "                                          'weather_condition_3': 'weather_condition_light_rain',\n",
    "                                          'weather_condition_4': 'weather_condition_heavy_rain',\n",
    "                                          'weekday_0': 'weekday_sunday',\n",
    "                                          'weekday_1': 'weekday_monday',\n",
    "                                          'weekday_2': 'weekday_tuesday',\n",
    "                                          'weekday_3': 'weekday_wednesday',\n",
    "                                          'weekday_4': 'weekday_thursday',\n",
    "                                          'weekday_5': 'weekday_friday',\n",
    "                                          'weekday_6': 'weekday_saturday'})"
   ]
  },
  {
   "cell_type": "code",
   "execution_count": null,
   "metadata": {},
   "outputs": [],
   "source": [
    "hours_clean = hours_clean.drop('workingday_no', axis=1)"
   ]
  },
  {
   "cell_type": "markdown",
   "metadata": {},
   "source": [
    "The variable `workingday_no` has been removed, as complementary of `workingday_yes`."
   ]
  },
  {
   "cell_type": "code",
   "execution_count": null,
   "metadata": {
    "scrolled": true
   },
   "outputs": [],
   "source": [
    "hours_clean.head()"
   ]
  },
  {
   "cell_type": "markdown",
   "metadata": {},
   "source": [
    "The dataset is ready for modeling."
   ]
  },
  {
   "cell_type": "markdown",
   "metadata": {},
   "source": [
    "### Training/Test Split"
   ]
  },
  {
   "cell_type": "code",
   "execution_count": null,
   "metadata": {},
   "outputs": [],
   "source": [
    "def list_features(df, target):\n",
    "    features = list(df._meta)\n",
    "    features.remove(target)\n",
    "    return features"
   ]
  },
  {
   "cell_type": "code",
   "execution_count": null,
   "metadata": {},
   "outputs": [],
   "source": [
    "target = 'total_bikes'\n",
    "features = list_features(hours_clean, target)"
   ]
  },
  {
   "cell_type": "code",
   "execution_count": null,
   "metadata": {},
   "outputs": [],
   "source": [
    "X = hours_clean[features]\n",
    "X_train = X.loc[(X['year_2011'] == 1) | ((X['year_2012'] == 1) & (X['month_sep'] == 0) & (\n",
    "    X['month_oct'] == 0) & (X['month_nov'] == 0) & (X['month_dec'] == 0)), features]\n",
    "X_test = X.loc[(X['year_2012'] == 1) & ((X['month_sep'] == 1) | (\n",
    "    X['month_oct'] == 1) | (X['month_nov'] == 1) | (X['month_dec'] == 1)), features]\n",
    "print('{:<9} {:>6} {:>6} {:>3} {:>6}'.format('X_train:',\n",
    "                                             X_train.shape[0].compute(), 'rows |', X_train.shape[1], 'columns'))\n",
    "print('{:<9} {:>6} {:>6} {:>3} {:>6}'.format(\n",
    "    'X_test:', X_test.shape[0].compute(), 'rows |', X_test.shape[1], 'columns'))"
   ]
  },
  {
   "cell_type": "code",
   "execution_count": null,
   "metadata": {},
   "outputs": [],
   "source": [
    "y = hours_clean.copy()\n",
    "y_train = y.loc[(y['year_2011'] == 1) | ((y['year_2012'] == 1) & (y['month_sep'] == 0) & (\n",
    "    y['month_oct'] == 0) & (y['month_nov'] == 0) & (y['month_dec'] == 0)), :]\n",
    "y_test = y.loc[(y['year_2012'] == 1) & ((y['month_sep'] == 1) | (\n",
    "    y['month_oct'] == 1) | (y['month_nov'] == 1) | (y['month_dec'] == 1)), :]\n",
    "y_train = y_train[target]\n",
    "y_test = y_test[target]\n",
    "print('{:<9} {:>6} {:>6} {:>3} {:>6}'.format('y_train:',\n",
    "                                             y_train.shape[0].compute(), 'rows |', 1, 'columns'))\n",
    "print('{:<9} {:>6} {:>6} {:>3} {:>6}'.format(\n",
    "    'y_test:', y_test.shape[0].compute(), 'rows |', 1, 'columns'))"
   ]
  },
  {
   "cell_type": "code",
   "execution_count": null,
   "metadata": {
    "scrolled": false
   },
   "outputs": [],
   "source": [
    "print('{:<15} {:>6} {:>6} {:>2} {:>6}'.format('Features:',\n",
    "                                              X.shape[0].compute(), 'items | ', X.shape[1], 'columns'))\n",
    "print('{:<15} {:>6} {:>6} {:>2} {:>6}'.format('Features Train:',\n",
    "                                              X_train.shape[0].compute(), 'items | ', X_train.shape[1], 'columns'))\n",
    "print('{:<15} {:>6} {:>6} {:>2} {:>6}'.format('Features Test:',\n",
    "                                              X_test.shape[0].compute(), 'items | ',  X_test.shape[1], 'columns'))\n",
    "print('{:<15} {:>6} {:>6} {:>2} {:>6}'.format(\n",
    "    'Target:', y.shape[0].compute(), 'items | ', 1, 'columns'))\n",
    "print('{:<15} {:>6} {:>6} {:>2} {:>6}'.format('Target Train:',\n",
    "                                              y_train.shape[0].compute(), 'items | ', 1, 'columns'))\n",
    "print('{:<15} {:>6} {:>6} {:>2} {:>6}'.format('Target Test:',\n",
    "                                              y_test.shape[0].compute(), 'items | ', 1, 'columns'))"
   ]
  },
  {
   "cell_type": "code",
   "execution_count": null,
   "metadata": {},
   "outputs": [],
   "source": [
    "X, X_train, X_test, y, y_train, y_test = dask.persist(\n",
    "    X, X_train, X_test, y, y_train, y_test)"
   ]
  },
  {
   "cell_type": "markdown",
   "metadata": {},
   "source": [
    "The Train Set is arbitrarily defined as all records until August 31st 2012, and the Test Set all records from September 1st 2012. Below function will be used to repeat the operation on future dataframes including new features."
   ]
  },
  {
   "cell_type": "code",
   "execution_count": null,
   "metadata": {},
   "outputs": [],
   "source": [
    "def train_test_split_0(df, target, features):\n",
    "    X = df[features]\n",
    "    y = df[target].to_frame()\n",
    "    df_train = df.loc[(df['year_2011'] == 1) | ((df['year_2012'] == 1) & (df['month_sep'] == 0) & (\n",
    "        df['month_oct'] == 0) & (df['month_nov'] == 0) & (df['month_dec'] == 0)), :]\n",
    "    df_test = df.loc[(X['year_2012'] == 1) & ((df['month_sep'] == 1) | (\n",
    "        df['month_oct'] == 1) | (df['month_nov'] == 1) | (df['month_dec'] == 1)), :]\n",
    "    X_train = df_train[features]\n",
    "    X_test = df_test[features]\n",
    "    y_train = df_train[target].to_frame()\n",
    "    y_test = df_test[target].to_frame()\n",
    "\n",
    "    print('{:<40} {!r:>}'.format('Same indexes for X and y:',\n",
    "                                 X.index.values.compute().tolist() == y.index.values.compute().tolist()))\n",
    "    print('{:<40} {!r:>}'.format('Same indexes for X_train and y_train:',\n",
    "                                 X_train.index.values.compute().tolist() == y_train.index.values.compute().tolist()))\n",
    "    print('{:<40} {!r:>}'.format('Same indexes for X_test and y_test:',\n",
    "                                 X_test.index.values.compute().tolist() == y_test.index.values.compute().tolist()))\n",
    "    print()\n",
    "    print('{:<15} {:>6} {:>6} {:>2} {:>6}'.format('Features:',\n",
    "                                                  X.shape[0].compute(), 'items | ', X.shape[1], 'columns'))\n",
    "    print('{:<15} {:>6} {:>6} {:>2} {:>6}'.format('Features Train:',\n",
    "                                                  X_train.shape[0].compute(), 'items | ', X_train.shape[1], 'columns'))\n",
    "    print('{:<15} {:>6} {:>6} {:>2} {:>6}'.format('Features Test:',\n",
    "                                                  X_test.shape[0].compute(), 'items | ',  X_test.shape[1], 'columns'))\n",
    "    print('{:<15} {:>6} {:>6} {:>2} {:>6}'.format(\n",
    "        'Target:', y.shape[0].compute(), 'items | ', 1, 'columns'))\n",
    "    print('{:<15} {:>6} {:>6} {:>2} {:>6}'.format('Target Train:',\n",
    "                                                  y_train.shape[0].compute(), 'items | ', 1, 'columns'))\n",
    "    print('{:<15} {:>6} {:>6} {:>2} {:>6}'.format('Target Test:',\n",
    "                                                  y_test.shape[0].compute(), 'items | ', 1, 'columns'))\n",
    "    print()\n",
    "\n",
    "    return X, X_train, X_test, y, y_train, y_test"
   ]
  },
  {
   "cell_type": "markdown",
   "metadata": {},
   "source": [
    "## Baseline"
   ]
  },
  {
   "cell_type": "code",
   "execution_count": null,
   "metadata": {
    "scrolled": false
   },
   "outputs": [],
   "source": [
    "lm = LinearRegression()\n",
    "lm.fit(X_train.values, y_train)\n",
    "y_pred = lm.predict(X_test.values)\n",
    "\n",
    "print('Intercept:', lm.intercept_)\n",
    "print('Coefficients:', lm.coef_)\n",
    "print('Mean squared error (MSE): {:.2f}'.format(\n",
    "    mean_squared_error(y_test.compute(), y_pred.compute())))\n",
    "print('Variance score (R2): {:.2f}'.format(\n",
    "    r2_score(y_test.compute(), y_pred.compute())))"
   ]
  },
  {
   "cell_type": "markdown",
   "metadata": {},
   "source": [
    "The baseline model for our dataset obtains a R square of 0.63."
   ]
  },
  {
   "cell_type": "markdown",
   "metadata": {},
   "source": [
    "## Feature Engineering"
   ]
  },
  {
   "cell_type": "markdown",
   "metadata": {},
   "source": [
    "### Pipeline with Linear Regression"
   ]
  },
  {
   "cell_type": "markdown",
   "metadata": {},
   "source": [
    "The Linear Regression is set into a pipeline."
   ]
  },
  {
   "cell_type": "code",
   "execution_count": null,
   "metadata": {},
   "outputs": [],
   "source": [
    "from matplotlib import pyplot\n",
    "\n",
    "\n",
    "def pipeline(df, target, algorithm):\n",
    "\n",
    "    features = list_features(df, target)\n",
    "    X, X_train, X_test, y, y_train, y_test = train_test_split_0(\n",
    "        df, target, features)\n",
    "    algorithm.fit(X_train.values, y_train.values)\n",
    "    y_pred = algorithm.predict(X_test.values)\n",
    "\n",
    "    print()\n",
    "    print('Intercept:', algorithm.intercept_)\n",
    "    print('Coefficients:', algorithm.coef_)\n",
    "    print('Mean squared error (MSE): {:.2f}'.format(\n",
    "        mean_squared_error(y_test.compute(), y_pred.compute())))\n",
    "    print('Variance score (R2): {:.2f}'.format(\n",
    "        r2_score(y_test.compute(), y_pred.compute())))"
   ]
  },
  {
   "cell_type": "code",
   "execution_count": null,
   "metadata": {
    "scrolled": false
   },
   "outputs": [],
   "source": [
    "pipeline(hours_clean, 'total_bikes', lm)"
   ]
  },
  {
   "cell_type": "markdown",
   "metadata": {},
   "source": [
    "#### Dask-XGBoost"
   ]
  },
  {
   "cell_type": "markdown",
   "metadata": {},
   "source": [
    "Another pipeline is created using Dask-XGBoost."
   ]
  },
  {
   "cell_type": "code",
   "execution_count": null,
   "metadata": {},
   "outputs": [],
   "source": [
    "def pipeline_xgb(df, target, client):\n",
    "\n",
    "    features = list_features(df, target)\n",
    "    X, X_train, X_test, y, y_train, y_test = train_test_split_0(\n",
    "        df, target, features)\n",
    "\n",
    "    params = {'objective': 'binary:logistic',\n",
    "              'max_depth': 4, 'eta': 0.01, 'subsample': 0.5,\n",
    "              'min_child_weight': 0.5}\n",
    "\n",
    "    bst = dask_xgboost.train(client, params, X_train,\n",
    "                             y_train, num_boost_round=10)\n",
    "\n",
    "    ax = xgboost.plot_importance(bst, height=0.8, max_num_features=9)\n",
    "    ax.grid(False, axis=\"y\")\n",
    "    ax.set_title('Estimated feature importance')\n",
    "    plt.show()\n",
    "\n",
    "    y_pred = dask_xgboost.predict(client, bst, X_test).persist()\n",
    "\n",
    "    print()\n",
    "    print('Mean squared error (MSE): {:.2f}'.format(\n",
    "        mean_squared_error(y_test.compute(), y_pred.compute())))\n",
    "    print('Variance score (R2): {:.2f}'.format(\n",
    "        r2_score(y_test.compute(), y_pred.compute())))"
   ]
  },
  {
   "cell_type": "code",
   "execution_count": null,
   "metadata": {
    "scrolled": false
   },
   "outputs": [],
   "source": [
    "pipeline_xgb(hours_clean, 'total_bikes', client)"
   ]
  },
  {
   "cell_type": "markdown",
   "metadata": {},
   "source": [
    "#### Dask_ml.XGBoost"
   ]
  },
  {
   "cell_type": "markdown",
   "metadata": {},
   "source": [
    "Another pipeline is created using Dask_ml.XGBoost."
   ]
  },
  {
   "cell_type": "code",
   "execution_count": null,
   "metadata": {},
   "outputs": [],
   "source": [
    "def pipeline_daskml_xgb(df, target, algorithm):\n",
    "\n",
    "    features = list_features(df, target)\n",
    "    X, X_train, X_test, y, y_train, y_test = train_test_split_0(\n",
    "        df, target, features)\n",
    "    algorithm.fit(X_train.values, y_train.values)\n",
    "    y_pred = algorithm.predict(X_test.values)\n",
    "\n",
    "    print()\n",
    "    print('Mean squared error (MSE): {:.2f}'.format(\n",
    "        mean_squared_error(y_test.compute(), y_pred.compute())))\n",
    "    print('Variance score (R2): {:.2f}'.format(\n",
    "        r2_score(y_test.compute(), y_pred.compute())))"
   ]
  },
  {
   "cell_type": "code",
   "execution_count": null,
   "metadata": {
    "scrolled": false
   },
   "outputs": [],
   "source": [
    "xgbreg = XGBRegressor()\n",
    "pipeline_daskml_xgb(hours_clean, 'total_bikes', xgbreg)"
   ]
  },
  {
   "cell_type": "markdown",
   "metadata": {},
   "source": [
    "#### Random Forest"
   ]
  },
  {
   "cell_type": "markdown",
   "metadata": {},
   "source": [
    "Another pipeline is created using Random Forest."
   ]
  },
  {
   "cell_type": "code",
   "execution_count": null,
   "metadata": {},
   "outputs": [],
   "source": [
    "def pipeline_rf(df, target, algorithm):\n",
    "\n",
    "    features = list_features(df, target)\n",
    "    X, X_train, X_test, y, y_train, y_test = train_test_split_0(\n",
    "        df, target, features)\n",
    "    with parallel_backend('dask'):\n",
    "        algorithm.fit(X_train.values, y_train.values)\n",
    "        y_pred = algorithm.predict(X_test.values)\n",
    "\n",
    "    print()\n",
    "    print('Mean squared error (MSE): {:.2f}'.format(\n",
    "        mean_squared_error(y_test, y_pred)))\n",
    "    print('Variance score (R2): {:.2f}'.format(\n",
    "        algorithm.score(X_test, y_test)))"
   ]
  },
  {
   "cell_type": "code",
   "execution_count": null,
   "metadata": {
    "scrolled": true
   },
   "outputs": [],
   "source": [
    "regr = RandomForestRegressor(max_depth=2, random_state=0, n_estimators=100)\n",
    "pipeline_rf(hours_clean, 'total_bikes', regr)"
   ]
  },
  {
   "cell_type": "markdown",
   "metadata": {},
   "source": [
    "***\n",
    "\n",
    "*Ashley O'Mahony | [ashleyomahony.com](http://ashleyomahony.com) | May 2019*  \n",
    "\n",
    "***"
   ]
  }
 ],
 "metadata": {
  "kernelspec": {
   "display_name": "Python 3",
   "language": "python",
   "name": "python3"
  },
  "language_info": {
   "codemirror_mode": {
    "name": "ipython",
    "version": 3
   },
   "file_extension": ".py",
   "mimetype": "text/x-python",
   "name": "python",
   "nbconvert_exporter": "python",
   "pygments_lexer": "ipython3",
   "version": "3.7.2"
  },
  "toc": {
   "base_numbering": 1,
   "nav_menu": {
    "height": "432px",
    "width": "339px"
   },
   "number_sections": true,
   "sideBar": true,
   "skip_h1_title": true,
   "title_cell": "Table of Contents",
   "title_sidebar": "Contents",
   "toc_cell": false,
   "toc_position": {
    "height": "calc(100% - 180px)",
    "left": "10px",
    "top": "150px",
    "width": "360px"
   },
   "toc_section_display": true,
   "toc_window_display": false
  }
 },
 "nbformat": 4,
 "nbformat_minor": 2
}
