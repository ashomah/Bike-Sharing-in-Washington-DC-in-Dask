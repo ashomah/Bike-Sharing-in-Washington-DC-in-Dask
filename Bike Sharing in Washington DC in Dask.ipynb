{
 "cells": [
  {
   "cell_type": "markdown",
   "metadata": {},
   "source": [
    "# Bike Sharing in Washington D.C. in Dask\n",
    "\n",
    "Ashley O'Mahony | [ashleyomahony.com](http://ashleyomahony.com) | May 2019  \n",
    "\n",
    "***"
   ]
  },
  {
   "cell_type": "markdown",
   "metadata": {},
   "source": [
    "## Introduction"
   ]
  },
  {
   "cell_type": "markdown",
   "metadata": {
    "heading_collapsed": true
   },
   "source": [
    "### Objectives"
   ]
  },
  {
   "cell_type": "markdown",
   "metadata": {
    "hidden": true
   },
   "source": [
    "This case study of the Washington D.C Bike Sharing System aims to predict the total number of users on an hourly basis. The dataset is [available on Kaggle](https://www.kaggle.com/marklvl/bike-sharing-dataset/home). It contains usage information of years 2011 and 2012.\n",
    "\n",
    "All the files of this project are saved in a [GitHub repository](https://github.com/ashomah/Bike-Sharing-in-Washington-DC)."
   ]
  },
  {
   "cell_type": "markdown",
   "metadata": {},
   "source": [
    "### Libraries"
   ]
  },
  {
   "cell_type": "markdown",
   "metadata": {},
   "source": [
    "This project uses a set of libraries for data manipulation, ploting and modelling."
   ]
  },
  {
   "cell_type": "code",
   "execution_count": null,
   "metadata": {},
   "outputs": [],
   "source": [
    "# Loading Libraries\n",
    "from sklearn.model_selection import TimeSeriesSplit, cross_validate\n",
    "from sklearn.feature_selection import RFE\n",
    "from sklearn.metrics import accuracy_score\n",
    "from sklearn.metrics import mean_squared_error, r2_score\n",
    "from sklearn import datasets, linear_model\n",
    "from sklearn.model_selection import train_test_split\n",
    "import statsmodels.api as sm\n",
    "from scipy.special import boxcox1p\n",
    "from sklearn.preprocessing import PolynomialFeatures\n",
    "from sklearn import preprocessing\n",
    "import seaborn as sns\n",
    "import matplotlib.ticker as ticker\n",
    "import matplotlib.pyplot as plt\n",
    "import numpy as np\n",
    "from sklearn.model_selection import cross_val_score, cross_val_predict\n",
    "from dask_ml.linear_model import LinearRegression\n",
    "import dask.array.stats\n",
    "from dask_ml.preprocessing import DummyEncoder\n",
    "from dask_ml.preprocessing import MinMaxScaler\n",
    "from dask.distributed import Client\n",
    "import dask.dataframe as dd\n",
    "import kaggle\n",
    "import datetime\n",
    "import pandas as pd\n",
    "from sklearn.externals.joblib import parallel_backend\n",
    "import dask_xgboost\n",
    "import xgboost\n",
    "from dask_ml.xgboost import XGBRegressor\n",
    "from sklearn.externals import joblib\n",
    "from sklearn.ensemble import RandomForestRegressor\n",
    "\n",
    "pd.set_option('display.max_columns', 500)\n",
    "kaggle.api.authenticate()\n",
    "sns.set(style='white')\n",
    "\n",
    "# from sklearn.preprocessing import MinMaxScaler #Preprocessing - version 0.20.1\n",
    "# from scipy.stats import skew, boxcox_normmax #Preprocessing - version 1.1.0\n",
    "# from sklearn.linear_model import LinearRegression #Model - version 0.20.1\n",
    "# from dask_ml.metrics import mean_squared_error, r2_score"
   ]
  },
  {
   "cell_type": "code",
   "execution_count": null,
   "metadata": {},
   "outputs": [],
   "source": [
    "from dask.distributed import Client, progress\n",
    "client = Client()\n",
    "client"
   ]
  },
  {
   "cell_type": "code",
   "execution_count": null,
   "metadata": {},
   "outputs": [],
   "source": [
    "# !kaggle datasets download - d marklvl/bike-sharing-dataset - p ./assets/data\n",
    "# !unzip - o ./assets/data/*.zip - d ./assets/data\n",
    "# !unzip - o ./assets/data/*.zip - d ./assets/data"
   ]
  },
  {
   "cell_type": "markdown",
   "metadata": {},
   "source": [
    "### Data Loading"
   ]
  },
  {
   "cell_type": "markdown",
   "metadata": {},
   "source": [
    "The dataset is stored in the [GitHub repository](https://github.com/ashomah/Bike-Sharing-in-Washington-DC) consisting in two CSV file: `day.csv` and `hour.csv`. The files are loaded directly from the repository."
   ]
  },
  {
   "cell_type": "code",
   "execution_count": null,
   "metadata": {
    "scrolled": true
   },
   "outputs": [],
   "source": [
    "hours_df = dd.from_pandas(pd.read_csv(\"./assets/data/hour.csv\", parse_dates=['dteday']),\n",
    "                          npartitions=1)\n",
    "hours_df.head()"
   ]
  },
  {
   "cell_type": "code",
   "execution_count": null,
   "metadata": {},
   "outputs": [],
   "source": [
    "days_df = dd.from_pandas(pd.read_csv(\"./assets/data/day.csv\", parse_dates=['dteday']),\n",
    "                         npartitions=1)\n",
    "days_df.head()"
   ]
  },
  {
   "cell_type": "markdown",
   "metadata": {},
   "source": [
    "## Data Preparation"
   ]
  },
  {
   "cell_type": "markdown",
   "metadata": {},
   "source": [
    "### Variables Types and Definitions"
   ]
  },
  {
   "cell_type": "markdown",
   "metadata": {},
   "source": [
    "The first stage of this analysis is to describe the dataset, understand the meaning of variable and perform the necessary adjustments to ensure that the data will be proceeded correctly during the Machine Learning process."
   ]
  },
  {
   "cell_type": "code",
   "execution_count": null,
   "metadata": {},
   "outputs": [],
   "source": [
    "# Shape of the data frame\n",
    "print('{:<9} {:>6} {:>6} {:>3} {:>6}'.format('hour.csv:',\n",
    "                                             hours_df.shape[0].compute(), 'rows |', hours_df.shape[1], 'columns'))\n",
    "print('{:<9} {:>6} {:>6} {:>3} {:>6}'.format('day.csv:',\n",
    "                                             days_df.shape[0].compute(), 'rows |', days_df.shape[1], 'columns'))"
   ]
  },
  {
   "cell_type": "code",
   "execution_count": null,
   "metadata": {},
   "outputs": [],
   "source": [
    "# Describe each variable\n",
    "def df_desc(df):\n",
    "    import pandas as pd\n",
    "    desc = pd.DataFrame({'dtype': df.dtypes,\n",
    "                         'NAs': df.isna().sum(),\n",
    "                         'Numerical': (df.dtypes != 'object') & (df.dtypes != 'datetime64[ns]') & (df.apply(lambda column: column == 0).sum() + df.apply(lambda column: column == 1).sum() != len(df)),\n",
    "                         'Boolean': df.apply(lambda column: column == 0).sum() + df.apply(lambda column: column == 1).sum() == len(df),\n",
    "                         'Categorical': df.dtypes == 'object',\n",
    "                         'Date': df.dtypes == 'datetime64[ns]',\n",
    "                         })\n",
    "    return desc"
   ]
  },
  {
   "cell_type": "code",
   "execution_count": null,
   "metadata": {},
   "outputs": [],
   "source": [
    "df_desc(days_df.compute())"
   ]
  },
  {
   "cell_type": "code",
   "execution_count": null,
   "metadata": {},
   "outputs": [],
   "source": [
    "df_desc(hours_df.compute())"
   ]
  },
  {
   "cell_type": "markdown",
   "metadata": {},
   "source": [
    "The dataset `day.csv` consists in 731 rows and 16 columns. The dataset `hour.csv` consists in 17,379 rows and 17 columns. Both datasets have the same columns, with an additional column for hours in `hour.csv`.\n",
    "\n",
    "Each row provides information for each day or each hour. None of the attributes contains any NA. Four (4) of these attributes contain decimal numbers, nine (9) contain integers, three (3) contain booleans, and one (1) contains date values stored as string."
   ]
  },
  {
   "cell_type": "markdown",
   "metadata": {},
   "source": [
    "For better readability, the columns of both data frames are renamed and data types are adjusted."
   ]
  },
  {
   "cell_type": "code",
   "execution_count": null,
   "metadata": {
    "scrolled": false
   },
   "outputs": [],
   "source": [
    "# HOURS DATASET\n",
    "# Renaming columns names to more readable names\n",
    "hours_df = hours_df.rename(columns={'instant': 'id',\n",
    "                                    'dteday': 'date',\n",
    "                                    'weathersit': 'weather_condition',\n",
    "                                    'hum': 'humidity',\n",
    "                                    'mnth': 'month',\n",
    "                                    'cnt': 'total_bikes',\n",
    "                                    'hr': 'hour',\n",
    "                                    'yr': 'year',\n",
    "                                    'temp': 'actual_temp',\n",
    "                                    'atemp': 'feeling_temp'})\n",
    "\n",
    "# Categorical variables\n",
    "hours_df = hours_df.categorize(columns=['season', 'holiday', 'weekday',\n",
    "                                        'workingday', 'weather_condition',\n",
    "                                        'month', 'year', 'hour'])\n",
    "\n",
    "# DAYS DATASET\n",
    "# Renaming columns names to more readable names\n",
    "days_df = days_df.rename(columns={'instant': 'id',\n",
    "                                  'dteday': 'date',\n",
    "                                  'weathersit': 'weather_condition',\n",
    "                                  'hum': 'humidity',\n",
    "                                  'mnth': 'month',\n",
    "                                  'cnt': 'total_bikes',\n",
    "                                  'yr': 'year',\n",
    "                                  'temp': 'actual_temp',\n",
    "                                  'atemp': 'feeling_temp'})\n",
    "\n",
    "# Categorical variables\n",
    "days_df = days_df.categorize(columns=['season', 'holiday', 'weekday',\n",
    "                                      'workingday', 'weather_condition',\n",
    "                                      'month', 'year'])"
   ]
  },
  {
   "cell_type": "code",
   "execution_count": null,
   "metadata": {},
   "outputs": [],
   "source": [
    "hours_df.head()"
   ]
  },
  {
   "cell_type": "code",
   "execution_count": null,
   "metadata": {},
   "outputs": [],
   "source": [
    "hours_df.compute().describe()"
   ]
  },
  {
   "cell_type": "code",
   "execution_count": null,
   "metadata": {},
   "outputs": [],
   "source": [
    "df_desc(days_df.compute())"
   ]
  },
  {
   "cell_type": "code",
   "execution_count": null,
   "metadata": {
    "scrolled": false
   },
   "outputs": [],
   "source": [
    "df_desc(hours_df.compute())"
   ]
  },
  {
   "cell_type": "code",
   "execution_count": null,
   "metadata": {},
   "outputs": [],
   "source": [
    "# Lists values of categorical variables\n",
    "categories = {'season': hours_df['season'].compute().unique().tolist(),\n",
    "              'year': hours_df['year'].compute().unique().tolist(),\n",
    "              'month': hours_df['month'].compute().unique().tolist(),\n",
    "              'hour': hours_df['hour'].compute().unique().tolist(),\n",
    "              'holiday': hours_df['holiday'].compute().unique().tolist(),\n",
    "              'weekday': hours_df['weekday'].compute().unique().tolist(),\n",
    "              'workingday': hours_df['workingday'].compute().unique().tolist(),\n",
    "              'weather_condition': hours_df['weather_condition'].compute().unique().tolist(),\n",
    "              }\n",
    "for i in sorted(categories.keys()):\n",
    "    print(i+\":\")\n",
    "    print(categories[i])\n",
    "    if i != sorted(categories.keys())[-1]:\n",
    "        print()"
   ]
  },
  {
   "cell_type": "code",
   "execution_count": null,
   "metadata": {
    "scrolled": false
   },
   "outputs": [],
   "source": [
    "df_desc(hours_df.compute())"
   ]
  },
  {
   "cell_type": "code",
   "execution_count": null,
   "metadata": {},
   "outputs": [],
   "source": [
    "days_df.head()"
   ]
  },
  {
   "cell_type": "code",
   "execution_count": null,
   "metadata": {},
   "outputs": [],
   "source": [
    "days_df.compute().describe()"
   ]
  },
  {
   "cell_type": "code",
   "execution_count": null,
   "metadata": {},
   "outputs": [],
   "source": [
    "# Lists values of categorical variables\n",
    "categories = {'season': days_df['season'].compute().unique().tolist(),\n",
    "              'year': days_df['year'].compute().unique().tolist(),\n",
    "              'month': days_df['month'].compute().unique().tolist(),\n",
    "              'holiday': days_df['holiday'].compute().unique().tolist(),\n",
    "              'weekday': days_df['weekday'].compute().unique().tolist(),\n",
    "              'workingday': days_df['workingday'].compute().unique().tolist(),\n",
    "              'weather_condition': days_df['weather_condition'].compute().unique().tolist(),\n",
    "              }\n",
    "for i in sorted(categories.keys()):\n",
    "    print(i+\":\")\n",
    "    print(categories[i])\n",
    "    if i != sorted(categories.keys())[-1]:\n",
    "        print()"
   ]
  },
  {
   "cell_type": "code",
   "execution_count": null,
   "metadata": {},
   "outputs": [],
   "source": [
    "df_desc(days_df.compute())"
   ]
  },
  {
   "cell_type": "markdown",
   "metadata": {},
   "source": [
    "For this study, we will only work with the dataset `hours`. The datasets contain 17 variables with no NAs:\n",
    "\n",
    "- `id`: numerical, integer values.  \n",
    "  *Record index. __This variable won't be considered in the study.__*\n",
    "  \n",
    "  \n",
    "- `date`: numerical, date values.  \n",
    "  *Date.*\n",
    "\n",
    "\n",
    "- `season`: encoded categorical, integer between 1 and 4.  \n",
    "  *Season: 2=Spring, 3=Summer, 4=Fall, 1=Winter.*  \n",
    "  *__Note: the seasons mentioned on the Kaggle page didn't correspond to the real seasons. We readjusted the parameters accordingly.__*\n",
    "\n",
    "\n",
    "- `year`: encoded categorical, integer between 0 and 1.  \n",
    "  *Year: 0=2011, 1=2012.*\n",
    "  \n",
    "  \n",
    "- `month`: encoded categorical, integer between 1 and 12.  \n",
    "  *Month.*\n",
    "  \n",
    "  \n",
    "- `hour`: encoded categorical, integer between 1 and 23.  \n",
    "  *Hour.*\n",
    "  \n",
    "  \n",
    "- `holiday`: encoded categorical, boolean.  \n",
    "  *Flag indicating if the day is a holiday.*\n",
    "\n",
    "\n",
    "- `weekday`: encoded categorical, integer between 0 and 6.  \n",
    "  *Day of the week (0=Sunday, ... 6=Saturday).*\n",
    "\n",
    "\n",
    "- `workingday`: encoded categorical, boolean.  \n",
    "  *Flag indicating if the day is a working day.*\n",
    "  \n",
    "  \n",
    "- `weather_condition`: encoded categorical, integer between 1 and 4.  \n",
    "  *Weather condition (1=Clear, 2=Mist, 3=Light Rain, 4=Heavy Rain).*\n",
    "\n",
    "\n",
    "- `actual_temp`: numerical, decimal values between 0 and 1.  \n",
    "  *Normalized temperature in Celsius (min = -16, max = +50).*\n",
    "\n",
    "\n",
    "- `feeling_temp`: numerical, decimal values between 0 and 1.  \n",
    "  *Normalized feeling temperature in Celsius (min = -8, max = +39).*\n",
    "\n",
    "\n",
    "- `humidity`: numerical, decimal values between 0 and 1.  \n",
    "  *Normalized humidity.*\n",
    "\n",
    "\n",
    "- `windspeed`: numerical, decimal values between 0 and 1.  \n",
    "  *Normalized wind speed.*\n",
    "\n",
    "\n",
    "- `casual`: numerical, integer.  \n",
    "  *Count of casual users. This variable won't be considered in the study.*\n",
    "\n",
    "\n",
    "- `registered`: numerical, integer.  \n",
    "  *Count of registered users. This variable won't be considered in the study.*\n",
    "\n",
    "\n",
    "- `total_bikes`: numerical, integer.  \n",
    "  *Count of total rental bikes (casual+registered). This is the __target variable__ of the study, the one to be modelled.*"
   ]
  },
  {
   "cell_type": "code",
   "execution_count": null,
   "metadata": {},
   "outputs": [],
   "source": [
    "# Remove variable id\n",
    "hours_df = hours_df.drop('id', axis=1)"
   ]
  },
  {
   "cell_type": "markdown",
   "metadata": {},
   "source": [
    "### Exploratory Data Analysis"
   ]
  },
  {
   "cell_type": "markdown",
   "metadata": {},
   "source": [
    "#### Bike sharing utilization over the two years"
   ]
  },
  {
   "cell_type": "markdown",
   "metadata": {},
   "source": [
    "The objective of this study is to build a model to predict the value of the variable `total_bikes`, based on the other variables available."
   ]
  },
  {
   "cell_type": "code",
   "execution_count": null,
   "metadata": {},
   "outputs": [],
   "source": [
    "# # Total_bikes evolution per day\n",
    "# plt.figure(figsize=(15,5))\n",
    "# sns.lineplot(x = hours_df.compute().date,\n",
    "#              y = hours_df.compute().total_bikes,\n",
    "#              color = 'steelblue')\n",
    "# plt.tight_layout()"
   ]
  },
  {
   "cell_type": "markdown",
   "metadata": {},
   "source": [
    "Based on the two years dataset, it seems that the utilization of the bike sharing service has increased over the period. The number of bikes rented per day also seems to vary depending on the season, with Spring and Summer months being showing a higher utilization of the service."
   ]
  },
  {
   "cell_type": "markdown",
   "metadata": {},
   "source": [
    "#### Bike sharing utilization by Month"
   ]
  },
  {
   "cell_type": "code",
   "execution_count": null,
   "metadata": {},
   "outputs": [],
   "source": [
    "# # Total_bikes by Month - Line Plot\n",
    "# plt.figure(figsize=(15,5))\n",
    "# g = sns.lineplot(x = hours_df.compute().month,\n",
    "#              y = hours_df.compute().total_bikes,\n",
    "#              color = 'steelblue') \\\n",
    "#    .axes.set_xticklabels(['Jan', 'Feb', 'Mar', 'Apr', 'May', 'Jun', 'Jul', 'Aug', 'Sep', 'Oct', 'Nov', 'Dec'])\n",
    "# plt.xticks([1,2,3,4,5,6,7,8,9,10,11,12])\n",
    "# plt.tight_layout()"
   ]
  },
  {
   "cell_type": "code",
   "execution_count": null,
   "metadata": {
    "scrolled": true
   },
   "outputs": [],
   "source": [
    "# # Total_bikes by Month - Box Plot\n",
    "# plt.figure(figsize=(15,5))\n",
    "# sns.boxplot(x = hours_df.compute().month,\n",
    "#             y = hours_df.compute().total_bikes,\n",
    "#              color = 'steelblue') \\\n",
    "#    .axes.set_xticklabels(['Jan', 'Feb', 'Mar', 'Apr', 'May', 'Jun', 'Jul', 'Aug', 'Sep', 'Oct', 'Nov', 'Dec'])\n",
    "# plt.tight_layout()"
   ]
  },
  {
   "cell_type": "markdown",
   "metadata": {},
   "source": [
    "The average utilization per month seems to increase between April and October, with a higher variance too."
   ]
  },
  {
   "cell_type": "markdown",
   "metadata": {},
   "source": [
    "#### Bike sharing utilization by Hour"
   ]
  },
  {
   "cell_type": "code",
   "execution_count": null,
   "metadata": {
    "scrolled": true
   },
   "outputs": [],
   "source": [
    "# # Total_bikes by Hour - Line Plot\n",
    "# plt.figure(figsize=(15,5))\n",
    "# sns.lineplot(x = hours_df.compute().hour,\n",
    "#              y = hours_df.compute().total_bikes,\n",
    "#              color = 'steelblue')\n",
    "# plt.xticks([0, 1,2,3,4,5,6,7,8,9,10,11,12,13,14,15,16,17,18,19,20,21,22,23])\n",
    "# plt.tight_layout()"
   ]
  },
  {
   "cell_type": "code",
   "execution_count": null,
   "metadata": {
    "scrolled": false
   },
   "outputs": [],
   "source": [
    "# # Total_bikes by Hour - Box Plot\n",
    "# plt.figure(figsize=(15,5))\n",
    "# sns.boxplot(x = hours_df.compute().hour,\n",
    "#              y = hours_df.compute().total_bikes,\n",
    "#              color = 'steelblue')\n",
    "# plt.tight_layout()"
   ]
  },
  {
   "cell_type": "code",
   "execution_count": null,
   "metadata": {
    "scrolled": true
   },
   "outputs": [],
   "source": [
    "# # Total_bikes by Hour - Distribution\n",
    "# plt.figure(figsize=(15,5))\n",
    "# sns.distplot(hours_df.compute().total_bikes,\n",
    "#              bins = 100,\n",
    "#              color = 'steelblue').axes.set(xlim = (min(hours_df.compute().total_bikes),max(hours_df.compute().total_bikes)),\n",
    "#                                            xticks = [0,100,200,300,400,500,600,700,800,900,1000])\n",
    "# plt.tight_layout()"
   ]
  },
  {
   "cell_type": "markdown",
   "metadata": {},
   "source": [
    "The utilization seems really similar over the day, with 2 peaks around 8am and between 5pm and 6pm. The box plot shows potential outliers in the data, which will be removed after the Feature Construction stage. It also highlight an important variance during day time, especially at peak times. The distribution plot shows that utilization is most of the time below 40 bikes simultaneously, and can reach about 1,000 bikes."
   ]
  },
  {
   "cell_type": "markdown",
   "metadata": {},
   "source": [
    "#### Bike sharing utilization by Season"
   ]
  },
  {
   "cell_type": "code",
   "execution_count": null,
   "metadata": {
    "scrolled": true
   },
   "outputs": [],
   "source": [
    "# # Total_bikes by Season - Line Plot\n",
    "# plt.figure(figsize=(15,5))\n",
    "# sns.lineplot(x = hours_df.compute().season,\n",
    "#              y = hours_df.compute().total_bikes,\n",
    "#              color = 'steelblue') \\\n",
    "#    .axes.set_xticklabels(['Winter', 'Spring', 'Summer', 'Fall'])\n",
    "# plt.xticks([1,2,3,4])\n",
    "# plt.tight_layout()"
   ]
  },
  {
   "cell_type": "code",
   "execution_count": null,
   "metadata": {
    "scrolled": false
   },
   "outputs": [],
   "source": [
    "# # Total_bikes by Season - Box Plot\n",
    "# plt.figure(figsize=(15,5))\n",
    "# sns.boxplot(x = hours_df.compute().season,\n",
    "#              y = hours_df.compute().total_bikes,\n",
    "#              color = 'steelblue') \\\n",
    "#    .axes.set_xticklabels(['Winter', 'Spring', 'Summer', 'Fall'])\n",
    "# plt.tight_layout()"
   ]
  },
  {
   "cell_type": "markdown",
   "metadata": {},
   "source": [
    "Summer appears to be the high season, with Spring and Fall having similar utilization shapes. Winter logically appears to be the low season with, however, potential utilization peaks which can reach the same number of bikes than in high season."
   ]
  },
  {
   "cell_type": "markdown",
   "metadata": {},
   "source": [
    "#### Bike sharing utilization by Holiday"
   ]
  },
  {
   "cell_type": "code",
   "execution_count": null,
   "metadata": {},
   "outputs": [],
   "source": [
    "# # Total_bikes by Holidays - Box Plot\n",
    "# plt.figure(figsize=(15,5))\n",
    "# sns.boxplot(x = hours_df.compute().holiday,\n",
    "#              y = hours_df.compute().total_bikes,\n",
    "#              color = 'steelblue') \\\n",
    "#    .axes.set_xticklabels(['Normal Day', 'Holiday'])\n",
    "# plt.tight_layout()"
   ]
  },
  {
   "cell_type": "markdown",
   "metadata": {},
   "source": [
    "Utilization of bikes during holidays seems lower and with less peaks."
   ]
  },
  {
   "cell_type": "markdown",
   "metadata": {},
   "source": [
    "#### Bike sharing utilization by Weekday"
   ]
  },
  {
   "cell_type": "code",
   "execution_count": null,
   "metadata": {},
   "outputs": [],
   "source": [
    "# # Total_bikes by Weekday - Line Plot\n",
    "# plt.figure(figsize=(15,5))\n",
    "# sns.lineplot(x = hours_df.compute().weekday,\n",
    "#              y = hours_df.compute().total_bikes,\n",
    "#              color = 'steelblue') \\\n",
    "#    .axes.set_xticklabels(['Sunday', 'Monday', 'Tuesday', 'Wednesday', 'Thursday', 'Friday', 'Saturday'])\n",
    "# plt.xticks([0,1,2,3,4,5,6])\n",
    "# plt.tight_layout()"
   ]
  },
  {
   "cell_type": "code",
   "execution_count": null,
   "metadata": {
    "scrolled": true
   },
   "outputs": [],
   "source": [
    "# # Total_bikes by Weekday - Box Plot\n",
    "# plt.figure(figsize=(15,5))\n",
    "# sns.boxplot(x = hours_df.compute().weekday,\n",
    "#              y = hours_df.compute().total_bikes,\n",
    "#              color = 'steelblue') \\\n",
    "#    .axes.set_xticklabels(['Sunday', 'Monday', 'Tuesday', 'Wednesday', 'Thursday', 'Friday', 'Saturday'])\n",
    "# plt.tight_layout()"
   ]
  },
  {
   "cell_type": "markdown",
   "metadata": {},
   "source": [
    "The average utilization per hour seems higher at the end of the week, but overall, weekends appear to have lower frequentation and weekdays have higher peaks."
   ]
  },
  {
   "cell_type": "markdown",
   "metadata": {},
   "source": [
    "#### Bike sharing utilization by Working Day"
   ]
  },
  {
   "cell_type": "code",
   "execution_count": null,
   "metadata": {},
   "outputs": [],
   "source": [
    "# # Total_bikes by Working Day - Box Plot\n",
    "# plt.figure(figsize=(15,5))\n",
    "# sns.boxplot(x = hours_df.compute().workingday,\n",
    "#              y = hours_df.compute().total_bikes,\n",
    "#              color = 'steelblue') \\\n",
    "#    .axes.set_xticklabels(['Non Working Day', 'Working Day'])\n",
    "# plt.tight_layout()"
   ]
  },
  {
   "cell_type": "markdown",
   "metadata": {},
   "source": [
    "Utilization seems higher during working days, with higher peaks."
   ]
  },
  {
   "cell_type": "markdown",
   "metadata": {},
   "source": [
    "#### Bike sharing utilization by Weather Condition"
   ]
  },
  {
   "cell_type": "code",
   "execution_count": null,
   "metadata": {},
   "outputs": [],
   "source": [
    "# # Total_bikes by Weather Condition - Line Plot\n",
    "# plt.figure(figsize=(15,5))\n",
    "# sns.lineplot(x = hours_df.compute().weather_condition,\n",
    "#              y = hours_df.compute().total_bikes,\n",
    "#              color = 'steelblue') \\\n",
    "#    .axes.set_xticklabels(['Clear', 'Mist', 'Light Rain', 'Heavy Rain'])\n",
    "# plt.xticks([1,2,3,4])\n",
    "# plt.tight_layout()"
   ]
  },
  {
   "cell_type": "code",
   "execution_count": null,
   "metadata": {
    "scrolled": true
   },
   "outputs": [],
   "source": [
    "# # Total_bikes by Weather Condition - Box Plot\n",
    "# plt.figure(figsize=(15,5))\n",
    "# sns.boxplot(x = hours_df.compute().weather_condition,\n",
    "#              y = hours_df.compute().total_bikes,\n",
    "#              color = 'steelblue') \\\n",
    "#    .axes.set_xticklabels(['Clear', 'Mist', 'Light Rain', 'Heavy Rain'])\n",
    "# plt.tight_layout()"
   ]
  },
  {
   "cell_type": "markdown",
   "metadata": {},
   "source": [
    "Unsurprisingly, bike sharing utilization is getting worse with bad weather."
   ]
  },
  {
   "cell_type": "markdown",
   "metadata": {},
   "source": [
    "#### Bike sharing utilization by Actual Temperature"
   ]
  },
  {
   "cell_type": "code",
   "execution_count": null,
   "metadata": {},
   "outputs": [],
   "source": [
    "# # Total_bikes by Actual Temperature - Line Plot\n",
    "# plt.figure(figsize=(15,5))\n",
    "# sns.lineplot(x = hours_df.compute().actual_temp,\n",
    "#              y = hours_df.compute().total_bikes,\n",
    "#              color = 'steelblue')\n",
    "# plt.tight_layout()"
   ]
  },
  {
   "cell_type": "code",
   "execution_count": null,
   "metadata": {
    "scrolled": true
   },
   "outputs": [],
   "source": [
    "# # Total_bikes by Actual Temperature - Box Plot\n",
    "# plt.figure(figsize=(15,5))\n",
    "# sns.boxplot(x = hours_df.compute().actual_temp,\n",
    "#              y = hours_df.compute().total_bikes,\n",
    "#              color = 'steelblue')\n",
    "# plt.tight_layout()"
   ]
  },
  {
   "cell_type": "markdown",
   "metadata": {},
   "source": [
    "The utilization is almost inexistant for sub-zero temperatures. It then grows with the increase of temperature, but drops down when it gets extremely hot."
   ]
  },
  {
   "cell_type": "markdown",
   "metadata": {},
   "source": [
    "#### Bike sharing utilization by Feeling Temperature"
   ]
  },
  {
   "cell_type": "code",
   "execution_count": null,
   "metadata": {},
   "outputs": [],
   "source": [
    "# # Total_bikes by Feeling Temperature - Line Plot\n",
    "# plt.figure(figsize=(15,5))\n",
    "# sns.lineplot(x = hours_df.compute().feeling_temp,\n",
    "#              y = hours_df.compute().total_bikes,\n",
    "#              color = 'steelblue')\n",
    "# plt.tight_layout()"
   ]
  },
  {
   "cell_type": "code",
   "execution_count": null,
   "metadata": {
    "scrolled": true
   },
   "outputs": [],
   "source": [
    "# # Total_bikes by Feeling Temperature - Box Plot\n",
    "# plt.figure(figsize=(15,5))\n",
    "# sns.boxplot(x = hours_df.compute().feeling_temp,\n",
    "#              y = hours_df.compute().total_bikes,\n",
    "#              color = 'steelblue')\n",
    "# plt.tight_layout()"
   ]
  },
  {
   "cell_type": "markdown",
   "metadata": {},
   "source": [
    "The utilization by feeling temperature follows the same rules than by actual temperature."
   ]
  },
  {
   "cell_type": "markdown",
   "metadata": {},
   "source": [
    "#### Bike sharing utilization by Humidity"
   ]
  },
  {
   "cell_type": "code",
   "execution_count": null,
   "metadata": {
    "scrolled": false
   },
   "outputs": [],
   "source": [
    "# # Total_bikes by Humidity - Line Plot\n",
    "# plt.figure(figsize=(15,5))\n",
    "# sns.lineplot(x = hours_df.compute().humidity,\n",
    "#              y = hours_df.compute().total_bikes,\n",
    "#              color = 'steelblue')\n",
    "# plt.tight_layout()"
   ]
  },
  {
   "cell_type": "code",
   "execution_count": null,
   "metadata": {
    "scrolled": true
   },
   "outputs": [],
   "source": [
    "# # Total_bikes by Humidity - Box Plot\n",
    "# plt.figure(figsize=(15,5))\n",
    "# sns.boxplot(x = hours_df.compute().humidity,\n",
    "#              y = hours_df.compute().total_bikes,\n",
    "#              color = 'steelblue')\n",
    "# plt.tight_layout()"
   ]
  },
  {
   "cell_type": "markdown",
   "metadata": {},
   "source": [
    "The utilization of bike sharing services is decreasing with the increase of humidity."
   ]
  },
  {
   "cell_type": "markdown",
   "metadata": {},
   "source": [
    "#### Bike sharing utilization by Wind Speed"
   ]
  },
  {
   "cell_type": "code",
   "execution_count": null,
   "metadata": {},
   "outputs": [],
   "source": [
    "# # Total_bikes by Wind Speed - Line Plot\n",
    "# plt.figure(figsize=(15,5))\n",
    "# sns.lineplot(x = hours_df.compute().windspeed,\n",
    "#              y = hours_df.compute().total_bikes,\n",
    "#              color = 'steelblue')\n",
    "# plt.tight_layout()"
   ]
  },
  {
   "cell_type": "code",
   "execution_count": null,
   "metadata": {
    "scrolled": false
   },
   "outputs": [],
   "source": [
    "# # Total_bikes by Wind Speed - Box Plot\n",
    "# plt.figure(figsize=(15,5))\n",
    "# sns.boxplot(x = hours_df.compute().windspeed,\n",
    "#              y = hours_df.compute().total_bikes,\n",
    "#              color = 'steelblue')\n",
    "# plt.tight_layout()"
   ]
  },
  {
   "cell_type": "markdown",
   "metadata": {},
   "source": [
    "Stronger wind seems to discourage users to use the bike sharing service."
   ]
  },
  {
   "cell_type": "markdown",
   "metadata": {},
   "source": [
    "#### Bike sharing utilization by Casual"
   ]
  },
  {
   "cell_type": "code",
   "execution_count": null,
   "metadata": {},
   "outputs": [],
   "source": [
    "# # Total_bikes by Casual - Line Plot\n",
    "# plt.figure(figsize=(15,5))\n",
    "# sns.lineplot(y = hours_df.compute().casual,\n",
    "#              x = hours_df.compute().total_bikes,\n",
    "#              color = 'steelblue')\n",
    "# sns.lineplot(y = hours_df.compute().total_bikes,\n",
    "#              x = hours_df.compute().total_bikes,\n",
    "#              color = 'orange')\n",
    "# plt.tight_layout()"
   ]
  },
  {
   "cell_type": "code",
   "execution_count": null,
   "metadata": {
    "scrolled": false
   },
   "outputs": [],
   "source": [
    "# # Total_bikes by Casual - Box Plot\n",
    "# plt.figure(figsize=(15,5))\n",
    "# sns.boxplot(y = hours_df.compute().casual,\n",
    "#             x = hours_df.compute().total_bikes,\n",
    "#              color = 'steelblue')\n",
    "# sns.lineplot(y = hours_df.compute().total_bikes,\n",
    "#              x = hours_df.compute().total_bikes,\n",
    "#              color = 'orange')\n",
    "# plt.tight_layout()"
   ]
  },
  {
   "cell_type": "markdown",
   "metadata": {},
   "source": [
    "The number of casual users seems to be quite low compared to the total users, but there are peaks of activity when total utilization reaches values between 500 and 800 bikes."
   ]
  },
  {
   "cell_type": "markdown",
   "metadata": {},
   "source": [
    "#### Bike sharing utilization by Registered"
   ]
  },
  {
   "cell_type": "code",
   "execution_count": null,
   "metadata": {},
   "outputs": [],
   "source": [
    "# # Total_bikes by Registered - Line Plot\n",
    "# plt.figure(figsize=(15,5))\n",
    "# sns.lineplot(y = hours_df.compute().registered,\n",
    "#              x = hours_df.compute().total_bikes,\n",
    "#              color = 'steelblue')\n",
    "# sns.lineplot(y = hours_df.compute().total_bikes,\n",
    "#              x = hours_df.compute().total_bikes,\n",
    "#              color = 'orange')\n",
    "# plt.tight_layout()"
   ]
  },
  {
   "cell_type": "code",
   "execution_count": null,
   "metadata": {
    "scrolled": false
   },
   "outputs": [],
   "source": [
    "# # Total_bikes by Registered - Box Plot\n",
    "# plt.figure(figsize=(15,5))\n",
    "# sns.boxplot(y = hours_df.compute().registered,\n",
    "#             x = hours_df.compute().total_bikes,\n",
    "#              color = 'steelblue')\n",
    "# sns.lineplot(y = hours_df.compute().total_bikes,\n",
    "#              x = hours_df.compute().total_bikes,\n",
    "#              color = 'orange')\n",
    "# plt.tight_layout()"
   ]
  },
  {
   "cell_type": "markdown",
   "metadata": {},
   "source": [
    "The number of registered users is usually high, compared to the total number of bikes. There are however drops between 500 and 800 total users."
   ]
  },
  {
   "cell_type": "markdown",
   "metadata": {},
   "source": [
    "#### Casual vs Registered Users"
   ]
  },
  {
   "cell_type": "code",
   "execution_count": null,
   "metadata": {},
   "outputs": [],
   "source": [
    "# # TO CONVERT\n",
    "# cas_reg = pd.DataFrame(hours_df.compute().registered)\n",
    "# cas_reg['casual'] = hours_df.compute().casual\n",
    "# cas_reg['total_bikes'] = hours_df.compute().total_bikes\n",
    "# cas_reg['ratio_cas_tot'] = np.where(cas_reg.total_bikes == 0,0,round(cas_reg.casual / cas_reg.total_bikes,4))"
   ]
  },
  {
   "cell_type": "code",
   "execution_count": null,
   "metadata": {
    "scrolled": true
   },
   "outputs": [],
   "source": [
    "# # Ratio of Casual Users - Line Plot\n",
    "# plt.figure(figsize=(15,5))\n",
    "# sns.lineplot(y = cas_reg.ratio_cas_tot,\n",
    "#              x = cas_reg.total_bikes,\n",
    "#              color = 'steelblue')\n",
    "# plt.axhline(1, color='orange')\n",
    "# plt.tight_layout()"
   ]
  },
  {
   "cell_type": "code",
   "execution_count": null,
   "metadata": {
    "scrolled": true
   },
   "outputs": [],
   "source": [
    "# # Ratio of Casual Users - Box Plot\n",
    "# plt.figure(figsize=(15,5))\n",
    "# sns.boxplot(y = cas_reg.ratio_cas_tot,\n",
    "#             x = cas_reg.total_bikes,\n",
    "#              color = 'steelblue')\n",
    "# plt.axhline(1, color='orange')\n",
    "# plt.tight_layout()"
   ]
  },
  {
   "cell_type": "code",
   "execution_count": null,
   "metadata": {},
   "outputs": [],
   "source": [
    "# # Ratio of Casual Users - Distribution\n",
    "# plt.figure(figsize=(15,5))\n",
    "# sns.distplot(cas_reg.ratio_cas_tot,\n",
    "#              bins = 100,\n",
    "#              color = 'steelblue').axes.set(xlim = (min(cas_reg.ratio_cas_tot),max(cas_reg.ratio_cas_tot)))\n",
    "# plt.axvline(0.5, color='orange', linestyle='--')\n",
    "# plt.tight_layout()"
   ]
  },
  {
   "cell_type": "markdown",
   "metadata": {},
   "source": [
    "The ratio of casual users is most of the time lower than the ratio of registered users, mainly lower than 30% of total users."
   ]
  },
  {
   "cell_type": "markdown",
   "metadata": {},
   "source": [
    "#### Total_Bikes by Hour with Holiday Hue"
   ]
  },
  {
   "cell_type": "code",
   "execution_count": null,
   "metadata": {},
   "outputs": [],
   "source": [
    "# plt.figure(figsize=(15,5))\n",
    "# g = sns.pointplot(y = hours_df.compute().total_bikes,\n",
    "#              x = hours_df.compute().hour,\n",
    "#              hue = hours_df.compute().holiday.astype('int'),\n",
    "#              palette = 'viridis',\n",
    "#              markers='.',\n",
    "#              errwidth = 1.5)\n",
    "# g_legend = g.axes.get_legend()\n",
    "# g_labels = ['Normal Day', 'Holiday']\n",
    "# for t, l in zip(g_legend.texts, g_labels): t.set_text(l)\n",
    "# plt.tight_layout()"
   ]
  },
  {
   "cell_type": "markdown",
   "metadata": {},
   "source": [
    "The utilization by hour during normal days differs from the utilization during holidays. During normal days, two (2) peaks are present during commute times (around 8am and 5-6pm), while during holidays, utilization is higher during the day between 10am and 8pm. Utilization during holidays also shows a higher variance."
   ]
  },
  {
   "cell_type": "markdown",
   "metadata": {},
   "source": [
    "#### Total_Bikes by Hour with Working Day Hue"
   ]
  },
  {
   "cell_type": "code",
   "execution_count": null,
   "metadata": {},
   "outputs": [],
   "source": [
    "# plt.figure(figsize=(15,5))\n",
    "# g = sns.pointplot(y = hours_df.compute().total_bikes,\n",
    "#              x = hours_df.compute().hour,\n",
    "#              hue = hours_df.compute().workingday.astype('int'),\n",
    "#              palette = 'viridis',\n",
    "#              markers='.',\n",
    "#              errwidth = 1.5)\n",
    "# g_legend = g.axes.get_legend()\n",
    "# g_labels = ['Non Working Day', 'Working Day']\n",
    "# for t, l in zip(g_legend.texts, g_labels): t.set_text(l)\n",
    "# # plt.axhline(hours_df.total_bikes.mean()+0.315*hours_df.total_bikes.mean(), color='orange')\n",
    "# plt.tight_layout()"
   ]
  },
  {
   "cell_type": "markdown",
   "metadata": {},
   "source": [
    "Quite similar than the utilization by holiday, the utilization by hour during working days differs from the utilization during non working days. During working days, two (2) peaks are present during commute times (around 8am and 5-6pm), while during non working days, utilization is higher during the day between 10am and 8pm. Interestingly, utilization during non working day seems to have less variance than during holidays."
   ]
  },
  {
   "cell_type": "markdown",
   "metadata": {},
   "source": [
    "#### Total_Bikes by Hour with Weekday Hue"
   ]
  },
  {
   "cell_type": "code",
   "execution_count": null,
   "metadata": {},
   "outputs": [],
   "source": [
    "# plt.figure(figsize=(15,5))\n",
    "# g = sns.pointplot(y = hours_df.compute().total_bikes,\n",
    "#              x = hours_df.compute().hour,\n",
    "#              hue = hours_df.compute().weekday.astype('int'),\n",
    "#              palette = 'viridis',\n",
    "#              markers='.',\n",
    "#              errwidth = 1.5)\n",
    "# g_legend = g.axes.get_legend()\n",
    "# g_labels = ['Sunday', 'Monday', 'Tuesday', 'Wednesday', 'Thursday', 'Friday', 'Saturday']\n",
    "# # plt.axhline(hours_df.total_bikes.mean(), color='steelblue')\n",
    "# # plt.axhline(hours_df.total_bikes.mean()+0.315*hours_df.total_bikes.mean(), color='orange')\n",
    "# for t, l in zip(g_legend.texts, g_labels): t.set_text(l)\n",
    "# plt.tight_layout()"
   ]
  },
  {
   "cell_type": "markdown",
   "metadata": {},
   "source": [
    "The utilization by hour during weekdays differs from the utilization during weekends. During weekdays, two (2) peaks are present during commute times (around 8am and 5-6pm), while during weekends, utilization is higher during the day between 10am and 6pm."
   ]
  },
  {
   "cell_type": "markdown",
   "metadata": {},
   "source": [
    "#### Total_Bikes by Hour with Weekday Hue for Registered Users"
   ]
  },
  {
   "cell_type": "code",
   "execution_count": null,
   "metadata": {},
   "outputs": [],
   "source": [
    "# plt.figure(figsize=(15,5))\n",
    "# g = sns.pointplot(y = hours_df.compute().registered,\n",
    "#              x = hours_df.compute().hour,\n",
    "#              hue = hours_df.compute().weekday.astype('int'),\n",
    "#              palette = 'viridis',\n",
    "#              markers='.',\n",
    "#              errwidth = 1.5)\n",
    "# g_legend = g.axes.get_legend()\n",
    "# g_labels = ['Sunday', 'Monday', 'Tuesday', 'Wednesday', 'Thursday', 'Friday', 'Saturday']\n",
    "# for t, l in zip(g_legend.texts, g_labels): t.set_text(l)\n",
    "# plt.tight_layout()"
   ]
  },
  {
   "cell_type": "markdown",
   "metadata": {},
   "source": [
    "Registered users seem to be responsible for the two (2) peaks during commute times. They still use the bikes during the weekends."
   ]
  },
  {
   "cell_type": "markdown",
   "metadata": {},
   "source": [
    "#### Total_Bikes by Hour with Weekday Hue for Casual Users"
   ]
  },
  {
   "cell_type": "code",
   "execution_count": null,
   "metadata": {},
   "outputs": [],
   "source": [
    "# plt.figure(figsize=(15,5))\n",
    "# g = sns.pointplot(y = hours_df.compute().casual,\n",
    "#              x = hours_df.compute().hour,\n",
    "#              hue = hours_df.compute().weekday.astype('int'),\n",
    "#              palette = 'viridis',\n",
    "#              markers='.',\n",
    "#              errwidth = 1.5)\n",
    "# g_legend = g.axes.get_legend()\n",
    "# g_labels = ['Sunday', 'Monday', 'Tuesday', 'Wednesday', 'Thursday', 'Friday', 'Saturday']\n",
    "# for t, l in zip(g_legend.texts, g_labels): t.set_text(l)\n",
    "# plt.tight_layout()"
   ]
  },
  {
   "cell_type": "markdown",
   "metadata": {},
   "source": [
    "Casual users are mainly using the bikes during the weekends."
   ]
  },
  {
   "cell_type": "markdown",
   "metadata": {},
   "source": [
    "#### Total_Bikes by Hour with Weather Conditions Hue"
   ]
  },
  {
   "cell_type": "code",
   "execution_count": null,
   "metadata": {},
   "outputs": [],
   "source": [
    "# plt.figure(figsize=(15,5))\n",
    "# g = sns.pointplot(y = hours_df.compute().total_bikes,\n",
    "#              x = hours_df.compute().hour,\n",
    "#              hue = hours_df.compute().weather_condition.astype('int'),\n",
    "#              palette = 'viridis',\n",
    "#              markers='.',\n",
    "#              errwidth = 1.5)\n",
    "# g_legend = g.axes.get_legend()\n",
    "# g_labels = ['Clear', 'Mist', 'Light Rain', 'Heavy Rain']\n",
    "# for t, l in zip(g_legend.texts, g_labels): t.set_text(l)\n",
    "# plt.tight_layout()"
   ]
  },
  {
   "cell_type": "markdown",
   "metadata": {},
   "source": [
    "The weather seems to have a consistent impact on the utilization by hour, except for mist which doesn't seem to discourage morning commuters."
   ]
  },
  {
   "cell_type": "markdown",
   "metadata": {},
   "source": [
    "#### Total_Bikes by Hour with Seasons Hue"
   ]
  },
  {
   "cell_type": "code",
   "execution_count": null,
   "metadata": {},
   "outputs": [],
   "source": [
    "# plt.figure(figsize=(15,5))\n",
    "# g = sns.pointplot(y = hours_df.compute().total_bikes,\n",
    "#              x = hours_df.compute().hour,\n",
    "#              hue = hours_df.compute().season.astype('int'),\n",
    "#              palette = 'viridis',\n",
    "#              markers='.',\n",
    "#              errwidth = 1.5)\n",
    "# g_legend = g.axes.get_legend()\n",
    "# g_labels = ['Winter', 'Spring', 'Summer', 'Fall']\n",
    "# for t, l in zip(g_legend.texts, g_labels): t.set_text(l)\n",
    "# plt.tight_layout()"
   ]
  },
  {
   "cell_type": "markdown",
   "metadata": {},
   "source": [
    "The season seems to have a consistent impact on the utilization by hour, with Winter discouraging a big part of the users."
   ]
  },
  {
   "cell_type": "markdown",
   "metadata": {},
   "source": [
    "#### Humidity by Actual Temperature"
   ]
  },
  {
   "cell_type": "code",
   "execution_count": null,
   "metadata": {},
   "outputs": [],
   "source": [
    "# plt.figure(figsize=(15,5))\n",
    "# sns.boxplot(x = hours_df.compute().actual_temp,\n",
    "#             y = hours_df.compute().humidity,\n",
    "#              color = 'steelblue')\n",
    "# plt.tight_layout()"
   ]
  },
  {
   "cell_type": "markdown",
   "metadata": {},
   "source": [
    "The humidity seems to be changing regardless of the actual temperature, except for extreme temperature values where humidity seems to stabilize."
   ]
  },
  {
   "cell_type": "markdown",
   "metadata": {},
   "source": [
    "#### Correlation Analysis"
   ]
  },
  {
   "cell_type": "markdown",
   "metadata": {},
   "source": [
    "A correlation analysis will allow to identify relationships between the dataset variables. A plot of their distributions highlighting the value of the target variable might also reveal some patterns."
   ]
  },
  {
   "cell_type": "code",
   "execution_count": null,
   "metadata": {
    "scrolled": false
   },
   "outputs": [],
   "source": [
    "hours_df_corr = hours_df.copy()\n",
    "hours_df_corr = hours_df_corr.drop(\n",
    "    ['date', 'year', 'month', 'hour', 'casual', 'registered', 'total_bikes'], axis=1)\n",
    "for column in hours_df_corr.columns:\n",
    "    hours_df_corr[column] = hours_df_corr[column].astype('float')\n",
    "\n",
    "plt.figure(figsize=(12, 10))\n",
    "sns.heatmap(hours_df_corr.corr(),\n",
    "            cmap=sns.diverging_palette(220, 20, n=7), vmax=1.0, vmin=-1.0, linewidths=0.1,\n",
    "            annot=True, annot_kws={\"size\": 8}, square=True)"
   ]
  },
  {
   "cell_type": "code",
   "execution_count": null,
   "metadata": {
    "scrolled": false
   },
   "outputs": [],
   "source": [
    "fig = plt.figure(figsize=(15, 10))\n",
    "axs = fig.subplots(2, 4)\n",
    "\n",
    "sns.scatterplot(hours_df['actual_temp'].compute(\n",
    "), hours_df['feeling_temp'].compute(), palette=('viridis'), ax=axs[0, 0])\n",
    "\n",
    "sns.scatterplot(hours_df['humidity'].compute(\n",
    "), hours_df['windspeed'].compute(), palette=('viridis'), ax=axs[0, 1])\n",
    "\n",
    "sns.countplot(hours_df['holiday'].compute(\n",
    "), hue=hours_df['workingday'].compute(), palette=('viridis'), ax=axs[0, 2])\n",
    "axs[0, 2].set_xticklabels(labels=['Normal Day', 'Holiday'])\n",
    "g_legend = axs[0, 2].get_legend()\n",
    "g_labels = ['Non Working', 'Working']\n",
    "for t, l in zip(g_legend.texts, g_labels):\n",
    "    t.set_text(l)\n",
    "\n",
    "sns.boxplot(hours_df['weather_condition'].compute(\n",
    "), hours_df['humidity'].compute(), palette=('viridis'), ax=axs[0, 3])\n",
    "axs[0, 3].set_xticklabels(labels=['Clear', 'Mist', 'L. Rain', 'H. Rain'])\n",
    "\n",
    "sns.boxplot(hours_df['season'].compute(\n",
    "), hours_df['actual_temp'].compute(), palette=('viridis'), ax=axs[1, 0])\n",
    "axs[1, 0].set_xticklabels(labels=['Winter', 'Spring', 'Summer', 'Fall'])\n",
    "\n",
    "sns.boxplot(hours_df['season'].compute(\n",
    "), hours_df['feeling_temp'].compute(), palette=('viridis'), ax=axs[1, 1])\n",
    "axs[1, 1].set_xticklabels(labels=['Winter', 'Spring', 'Summer', 'Fall'])\n",
    "\n",
    "sns.boxplot(hours_df['season'].compute(\n",
    "), hours_df['humidity'].compute(), palette=('viridis'), ax=axs[1, 2])\n",
    "axs[1, 2].set_xticklabels(labels=['Winter', 'Spring', 'Summer', 'Fall'])\n",
    "\n",
    "sns.boxplot(hours_df['season'].compute(\n",
    "), hours_df['windspeed'].compute(), palette=('viridis'), ax=axs[1, 3])\n",
    "axs[1, 3].set_xticklabels(labels=['Winter', 'Spring', 'Summer', 'Fall'])\n",
    "\n",
    "fig.tight_layout()"
   ]
  },
  {
   "cell_type": "markdown",
   "metadata": {},
   "source": [
    "The correlation matrix shows a high correlation between `actual_temp` and `feeling_temp`. Thus, only the `actual_temp` variable will be used in the study, and the `feeling_temp` will be removed from the dataset.\n",
    "\n",
    "Another interesting relationship exists between `holiday` and `workingday`. Every holiday is a non-working day. Based on previous plots, the utilization of bikes per hour based on `workingday` seems to be more stable than based on `holiday`, thus the variable `holiday` will be removed.\n",
    "\n",
    "Some other logical correlations can be found between meteorological conditions and seasons, but they are not strong enough to lighten the dataset."
   ]
  },
  {
   "cell_type": "markdown",
   "metadata": {},
   "source": [
    "### Scaling and Skewness"
   ]
  },
  {
   "cell_type": "code",
   "execution_count": null,
   "metadata": {},
   "outputs": [],
   "source": [
    "hours_prep_scaled = hours_df.copy().drop(\n",
    "    ['date', 'casual', 'registered', 'holiday', 'feeling_temp'], axis=1)"
   ]
  },
  {
   "cell_type": "code",
   "execution_count": null,
   "metadata": {
    "scrolled": true
   },
   "outputs": [],
   "source": [
    "hours_prep_scaled.compute().describe()"
   ]
  },
  {
   "cell_type": "code",
   "execution_count": null,
   "metadata": {},
   "outputs": [],
   "source": [
    "scaler = MinMaxScaler()\n",
    "hours_prep_scaled[['actual_temp', 'humidity', 'windspeed', 'total_bikes']] = scaler.fit_transform(\n",
    "    hours_prep_scaled[['actual_temp', 'humidity', 'windspeed', 'total_bikes']])\n",
    "hours_prep_scaled.compute().describe()"
   ]
  },
  {
   "cell_type": "code",
   "execution_count": null,
   "metadata": {},
   "outputs": [],
   "source": [
    "hours_df_num = hours_df.select_dtypes(include=['float64', 'int64'])\n",
    "hours_prep_scaled.compute().hist(figsize=(15, 5), bins=50,\n",
    "                                 xlabelsize=3, ylabelsize=3, color='steelblue')"
   ]
  },
  {
   "cell_type": "code",
   "execution_count": null,
   "metadata": {},
   "outputs": [],
   "source": [
    "# def feature_skewness(df):\n",
    "#     numeric_dtypes = ['int16', 'int32', 'int64',\n",
    "#                       'float16', 'float32', 'float64']\n",
    "#     numeric_features = []\n",
    "#     for i in df.columns:\n",
    "#         if df[i].dtype in numeric_dtypes:\n",
    "#             numeric_features.append(i)\n",
    "\n",
    "#     feature_skew = df[numeric_features].apply(\n",
    "#         lambda x: dask.array.stats.skew(x), axis=1)\n",
    "#     feature_skew = pd.DataFrame(feature_skew).sort_values(ascending=False)\n",
    "#     skews = pd.DataFrame({'skew':feature_skew})\n",
    "#     return feature_skew, numeric_features\n",
    "\n",
    "# def fix_skewness(df):\n",
    "#     feature_skew, numeric_features = feature_skewness(df)\n",
    "#     high_skew = feature_skew[feature_skew > 0.5]\n",
    "#     skew_index = high_skew.index\n",
    "\n",
    "#     for i in skew_index:\n",
    "#         df[i] = boxcox1p(df[i], boxcox_normmax(df[i]+1))\n",
    "\n",
    "#     skew_features = df[numeric_features].apply(\n",
    "#         lambda x: skew(x)).sort_values(ascending=False)\n",
    "#     skews = pd.DataFrame({'skew':skew_features})\n",
    "#     return df"
   ]
  },
  {
   "cell_type": "code",
   "execution_count": null,
   "metadata": {
    "scrolled": true
   },
   "outputs": [],
   "source": [
    "# hours_prep_skew = fix_skewness(hours_prep_scaled)\n",
    "# hours_prep_skew.hist(figsize=(15, 5), bins=50, xlabelsize=3, ylabelsize=3, color='steelblue');"
   ]
  },
  {
   "cell_type": "markdown",
   "metadata": {},
   "source": [
    "The scale and skewness of the dataset are corrected."
   ]
  },
  {
   "cell_type": "markdown",
   "metadata": {},
   "source": [
    "### Encoding Categorical Variables"
   ]
  },
  {
   "cell_type": "code",
   "execution_count": null,
   "metadata": {},
   "outputs": [],
   "source": [
    "# hours_prep_encoded = hours_prep_skew.copy()\n",
    "hours_prep_encoded = hours_prep_scaled.copy()\n",
    "df_desc(hours_prep_encoded.compute())"
   ]
  },
  {
   "cell_type": "code",
   "execution_count": null,
   "metadata": {},
   "outputs": [],
   "source": [
    "def date_features(df):\n",
    "    columns = df.columns\n",
    "    return df.select_dtypes(include=[np.datetime64]).columns\n",
    "\n",
    "\n",
    "def numerical_features(df):\n",
    "    columns = df.columns\n",
    "    return df._get_numeric_data().columns\n",
    "\n",
    "\n",
    "def categorical_features(df):\n",
    "    numerical_columns = numerical_features(df)\n",
    "    date_columns = date_features(df)\n",
    "    return(list(set(df.columns) - set(numerical_columns) - set(date_columns)))\n",
    "\n",
    "\n",
    "def onehot_encode(df):\n",
    "    #     numericals = numerical_features(df)\n",
    "    #     new_df = numericals.copy()\n",
    "    new_df = df.copy()\n",
    "    new_df = DummyEncoder().fit_transform(new_df)  # [categorical_column])\n",
    "    return new_df\n",
    "\n",
    "\n",
    "def onehot_encode_single(df, col_to_encode, drop=True):\n",
    "    if type(col_to_encode) != str:\n",
    "        raise TypeError('col_to_encode should be a string.')\n",
    "    new_df = df.copy()\n",
    "\n",
    "    if drop == True:\n",
    "        new_df = new_df.drop([col_to_encode], axis=1)\n",
    "\n",
    "    new_df = dd.concat([new_df,\n",
    "                        DummyEncoder().fit_transform(df[col_to_encode].to_frame())],\n",
    "                       interleave_partitions=True)\n",
    "    return new_df"
   ]
  },
  {
   "cell_type": "code",
   "execution_count": null,
   "metadata": {
    "scrolled": true
   },
   "outputs": [],
   "source": [
    "hours_clean = onehot_encode(hours_prep_encoded)\n",
    "df_desc(hours_clean.compute())"
   ]
  },
  {
   "cell_type": "code",
   "execution_count": null,
   "metadata": {},
   "outputs": [],
   "source": [
    "# Rename columns\n",
    "hours_clean = hours_clean.rename(columns={'year_0': 'year_2011',\n",
    "                                          'year_1': 'year_2012',\n",
    "                                          'season_1': 'season_winter',\n",
    "                                          'season_2': 'season_spring',\n",
    "                                          'season_3': 'season_summer',\n",
    "                                          'season_4': 'season_fall',\n",
    "                                          'workingday_0': 'workingday_no',\n",
    "                                          'workingday_1': 'workingday_yes',\n",
    "                                          'month_1': 'month_jan',\n",
    "                                          'month_2': 'month_feb',\n",
    "                                          'month_3': 'month_mar',\n",
    "                                          'month_4': 'month_apr',\n",
    "                                          'month_5': 'month_may',\n",
    "                                          'month_6': 'month_jun',\n",
    "                                          'month_7': 'month_jul',\n",
    "                                          'month_8': 'month_aug',\n",
    "                                          'month_9': 'month_sep',\n",
    "                                          'month_10': 'month_oct',\n",
    "                                          'month_11': 'month_nov',\n",
    "                                          'month_12': 'month_dec',\n",
    "                                          'weather_condition_1': 'weather_condition_clear',\n",
    "                                          'weather_condition_2': 'weather_condition_mist',\n",
    "                                          'weather_condition_3': 'weather_condition_light_rain',\n",
    "                                          'weather_condition_4': 'weather_condition_heavy_rain',\n",
    "                                          'weekday_0': 'weekday_sunday',\n",
    "                                          'weekday_1': 'weekday_monday',\n",
    "                                          'weekday_2': 'weekday_tuesday',\n",
    "                                          'weekday_3': 'weekday_wednesday',\n",
    "                                          'weekday_4': 'weekday_thursday',\n",
    "                                          'weekday_5': 'weekday_friday',\n",
    "                                          'weekday_6': 'weekday_saturday'})"
   ]
  },
  {
   "cell_type": "code",
   "execution_count": null,
   "metadata": {},
   "outputs": [],
   "source": [
    "hours_clean = hours_clean.drop('workingday_no', axis=1)"
   ]
  },
  {
   "cell_type": "markdown",
   "metadata": {},
   "source": [
    "The variable `workingday_no` has been removed, as complementary of `workingday_yes`."
   ]
  },
  {
   "cell_type": "code",
   "execution_count": null,
   "metadata": {
    "scrolled": true
   },
   "outputs": [],
   "source": [
    "hours_clean.head()"
   ]
  },
  {
   "cell_type": "markdown",
   "metadata": {},
   "source": [
    "The dataset is ready for modeling."
   ]
  },
  {
   "cell_type": "markdown",
   "metadata": {},
   "source": [
    "### Training/Test Split"
   ]
  },
  {
   "cell_type": "code",
   "execution_count": null,
   "metadata": {},
   "outputs": [],
   "source": [
    "def list_features(df, target):\n",
    "    features = list(df._meta)\n",
    "    features.remove(target)\n",
    "    return features"
   ]
  },
  {
   "cell_type": "code",
   "execution_count": null,
   "metadata": {},
   "outputs": [],
   "source": [
    "target = 'total_bikes'\n",
    "features = list_features(hours_clean, target)"
   ]
  },
  {
   "cell_type": "code",
   "execution_count": null,
   "metadata": {},
   "outputs": [],
   "source": [
    "X = hours_clean[features]\n",
    "X_train = X.loc[(X['year_2011']==1) | ((X['year_2012']==1) & (X['month_sep']==0) & (X['month_oct']==0) & (X['month_nov']==0) & (X['month_dec']==0)),features]\n",
    "X_test = X.loc[(X['year_2012']==1) & ((X['month_sep']==1) | (X['month_oct']==1) | (X['month_nov']==1) | (X['month_dec']==1)),features]\n",
    "print('{:<9} {:>6} {:>6} {:>3} {:>6}'.format('X_train:', X_train.shape[0].compute(),'rows |', X_train.shape[1], 'columns'))\n",
    "print('{:<9} {:>6} {:>6} {:>3} {:>6}'.format('X_test:', X_test.shape[0].compute(),'rows |', X_test.shape[1], 'columns'))"
   ]
  },
  {
   "cell_type": "code",
   "execution_count": null,
   "metadata": {
    "scrolled": false
   },
   "outputs": [],
   "source": [
    "# X_train.groupby(['year_2011','year_2012','month_jan','month_feb','month_mar','month_apr','month_may','month_jun','month_jul','month_aug','month_sep','month_oct','month_nov','month_dec']).size().reset_index()"
   ]
  },
  {
   "cell_type": "code",
   "execution_count": null,
   "metadata": {},
   "outputs": [],
   "source": [
    "# X_test.groupby(['year_2011','year_2012','month_jan','month_feb','month_mar','month_apr','month_may','month_jun','month_jul','month_aug','month_sep','month_oct','month_nov','month_dec']).size().reset_index()"
   ]
  },
  {
   "cell_type": "code",
   "execution_count": null,
   "metadata": {},
   "outputs": [],
   "source": [
    "y = hours_clean.copy()\n",
    "y_train = y.loc[(y['year_2011'] == 1) | ((y['year_2012'] == 1) & (y['month_sep'] == 0) & (\n",
    "    y['month_oct'] == 0) & (y['month_nov'] == 0) & (y['month_dec'] == 0)), :]\n",
    "y_test = y.loc[(y['year_2012'] == 1) & ((y['month_sep'] == 1) | (\n",
    "    y['month_oct'] == 1) | (y['month_nov'] == 1) | (y['month_dec'] == 1)), :]\n",
    "y_train = y_train[target]\n",
    "y_test = y_test[target]\n",
    "print('{:<9} {:>6} {:>6} {:>3} {:>6}'.format('y_train:',\n",
    "                                             y_train.shape[0].compute(), 'rows |', 1, 'columns'))\n",
    "print('{:<9} {:>6} {:>6} {:>3} {:>6}'.format(\n",
    "    'y_test:', y_test.shape[0].compute(), 'rows |', 1, 'columns'))"
   ]
  },
  {
   "cell_type": "code",
   "execution_count": null,
   "metadata": {
    "scrolled": false
   },
   "outputs": [],
   "source": [
    "print('{:<15} {:>6} {:>6} {:>2} {:>6}'.format('Features:',\n",
    "                                              X.shape[0].compute(), 'items | ', X.shape[1], 'columns'))\n",
    "print('{:<15} {:>6} {:>6} {:>2} {:>6}'.format('Features Train:',\n",
    "                                              X_train.shape[0].compute(), 'items | ', X_train.shape[1], 'columns'))\n",
    "print('{:<15} {:>6} {:>6} {:>2} {:>6}'.format('Features Test:',\n",
    "                                              X_test.shape[0].compute(), 'items | ',  X_test.shape[1], 'columns'))\n",
    "print('{:<15} {:>6} {:>6} {:>2} {:>6}'.format(\n",
    "    'Target:', y.shape[0].compute(), 'items | ', 1, 'columns'))\n",
    "print('{:<15} {:>6} {:>6} {:>2} {:>6}'.format('Target Train:',\n",
    "                                              y_train.shape[0].compute(), 'items | ', 1, 'columns'))\n",
    "print('{:<15} {:>6} {:>6} {:>2} {:>6}'.format('Target Test:',\n",
    "                                              y_test.shape[0].compute(), 'items | ', 1, 'columns'))"
   ]
  },
  {
   "cell_type": "code",
   "execution_count": null,
   "metadata": {},
   "outputs": [],
   "source": [
    "X, X_train, X_test, y, y_train, y_test = dask.persist(\n",
    "    X, X_train, X_test, y, y_train, y_test)"
   ]
  },
  {
   "cell_type": "markdown",
   "metadata": {},
   "source": [
    "The Train Set is arbitrarily defined as all records until August 31st 2012, and the Test Set all records from September 1st 2012. Below function will be used to repeat the operation on future dataframes including new features."
   ]
  },
  {
   "cell_type": "code",
   "execution_count": null,
   "metadata": {},
   "outputs": [],
   "source": [
    "def train_test_split_0(df, target, features):\n",
    "    X = df[features]\n",
    "    y = df[target].to_frame()\n",
    "    df_train = df.loc[(df['year_2011']==1) | ((df['year_2012']==1) & (df['month_sep']==0) & (df['month_oct']==0) & (df['month_nov']==0) & (df['month_dec']==0)),:]\n",
    "    df_test = df.loc[(X['year_2012']==1) & ((df['month_sep']==1) | (df['month_oct']==1) | (df['month_nov']==1) | (df['month_dec']==1)),:]\n",
    "    X_train = df_train[features]\n",
    "    X_test = df_test[features]\n",
    "    y_train = df_train[target].to_frame()\n",
    "    y_test = df_test[target].to_frame()\n",
    "\n",
    "    print('{:<40} {!r:>}'.format('Same indexes for X and y:', X.index.values.compute().tolist() == y.index.values.compute().tolist()))\n",
    "    print('{:<40} {!r:>}'.format('Same indexes for X_train and y_train:', X_train.index.values.compute().tolist() == y_train.index.values.compute().tolist()))\n",
    "    print('{:<40} {!r:>}'.format('Same indexes for X_test and y_test:', X_test.index.values.compute().tolist() == y_test.index.values.compute().tolist()))\n",
    "    print()\n",
    "    print('{:<15} {:>6} {:>6} {:>2} {:>6}'.format('Features:',X.shape[0].compute(), 'items | ', X.shape[1],'columns'))\n",
    "    print('{:<15} {:>6} {:>6} {:>2} {:>6}'.format('Features Train:',X_train.shape[0].compute(), 'items | ', X_train.shape[1],'columns'))\n",
    "    print('{:<15} {:>6} {:>6} {:>2} {:>6}'.format('Features Test:',X_test.shape[0].compute(), 'items | ',  X_test.shape[1],'columns'))\n",
    "    print('{:<15} {:>6} {:>6} {:>2} {:>6}'.format('Target:',y.shape[0].compute(), 'items | ', 1,'columns'))\n",
    "    print('{:<15} {:>6} {:>6} {:>2} {:>6}'.format('Target Train:',y_train.shape[0].compute(), 'items | ', 1,'columns'))\n",
    "    print('{:<15} {:>6} {:>6} {:>2} {:>6}'.format('Target Test:',y_test.shape[0].compute(), 'items | ', 1,'columns'))\n",
    "    print()\n",
    "    \n",
    "    return X, X_train, X_test, y, y_train, y_test"
   ]
  },
  {
   "cell_type": "markdown",
   "metadata": {},
   "source": [
    "## Baseline"
   ]
  },
  {
   "cell_type": "code",
   "execution_count": null,
   "metadata": {
    "scrolled": false
   },
   "outputs": [],
   "source": [
    "lm = LinearRegression()\n",
    "lm.fit(X_train.values, y_train)\n",
    "y_pred = lm.predict(X_test.values)\n",
    "\n",
    "print('Intercept:', lm.intercept_)\n",
    "print('Coefficients:', lm.coef_)\n",
    "print('Mean squared error (MSE): {:.2f}'.format(\n",
    "    mean_squared_error(y_test.compute(), y_pred.compute())))\n",
    "print('Variance score (R2): {:.2f}'.format(\n",
    "    r2_score(y_test.compute(), y_pred.compute())))"
   ]
  },
  {
   "cell_type": "markdown",
   "metadata": {},
   "source": [
    "The baseline model for our dataset obtains a R square of 0.76 with 57 features."
   ]
  },
  {
   "cell_type": "markdown",
   "metadata": {},
   "source": [
    "## Feature Engineering"
   ]
  },
  {
   "cell_type": "markdown",
   "metadata": {},
   "source": [
    "### Cross Validation Strategy"
   ]
  },
  {
   "cell_type": "code",
   "execution_count": null,
   "metadata": {},
   "outputs": [],
   "source": [
    "# def cross_val_ts(algorithm, X_train, y_train, n_splits):\n",
    "#     tscv = TimeSeriesSplit(n_splits=n_splits)\n",
    "#     scores = cross_validate(algorithm, X_train, y_train, cv=tscv,\n",
    "#                             scoring=('r2'),\n",
    "#                             return_train_score=True)\n",
    "#     print('Cross Validation Variance score (R2): {:.2f}'.format(scores['train_score'].mean()))"
   ]
  },
  {
   "cell_type": "code",
   "execution_count": null,
   "metadata": {},
   "outputs": [],
   "source": [
    "# cross_val_ts(lm,X_train, y_train, 10)"
   ]
  },
  {
   "cell_type": "markdown",
   "metadata": {},
   "source": [
    "The cross validation used is a recursive time series split with 10 folds."
   ]
  },
  {
   "cell_type": "markdown",
   "metadata": {},
   "source": [
    "### Features Construction"
   ]
  },
  {
   "cell_type": "markdown",
   "metadata": {},
   "source": [
    "#### Pipeline"
   ]
  },
  {
   "cell_type": "markdown",
   "metadata": {},
   "source": [
    "Each new feature will be tested through below pipeline."
   ]
  },
  {
   "cell_type": "code",
   "execution_count": null,
   "metadata": {},
   "outputs": [],
   "source": [
    "from matplotlib import pyplot\n",
    "\n",
    "\n",
    "def pipeline(df, target, algorithm):\n",
    "\n",
    "    features = list_features(df, target)\n",
    "    X, X_train, X_test, y, y_train, y_test = train_test_split_0(df, target, features)\n",
    "    algorithm.fit(X_train.values, y_train.values)\n",
    "    y_pred = algorithm.predict(X_test.values)\n",
    "\n",
    "    print()\n",
    "    print('Intercept:', algorithm.intercept_)\n",
    "    print('Coefficients:', algorithm.coef_)\n",
    "    print('Mean squared error (MSE): {:.2f}'.format(\n",
    "        mean_squared_error(y_test.compute(), y_pred.compute())))\n",
    "    print('Variance score (R2): {:.2f}'.format(\n",
    "        r2_score(y_test.compute(), y_pred.compute())))"
   ]
  },
  {
   "cell_type": "code",
   "execution_count": null,
   "metadata": {
    "scrolled": false
   },
   "outputs": [],
   "source": [
    "pipeline(hours_clean, 'total_bikes', lm)"
   ]
  },
  {
   "cell_type": "markdown",
   "metadata": {},
   "source": [
    "#### Dask-XGBoost"
   ]
  },
  {
   "cell_type": "markdown",
   "metadata": {},
   "source": [
    "Another pipeline is created using Dask-XGBoost."
   ]
  },
  {
   "cell_type": "code",
   "execution_count": null,
   "metadata": {},
   "outputs": [],
   "source": [
    "def pipeline_xgb(df, target, client):\n",
    "\n",
    "    features = list_features(df, target)\n",
    "    X, X_train, X_test, y, y_train, y_test = train_test_split_0(df, target, features)\n",
    "\n",
    "    params = {'objective': 'binary:logistic',\n",
    "          'max_depth': 4, 'eta': 0.01, 'subsample': 0.5,\n",
    "          'min_child_weight': 0.5}\n",
    "\n",
    "    bst = dask_xgboost.train(client, params, X_train, y_train, num_boost_round=10)\n",
    "    \n",
    "    ax = xgboost.plot_importance(bst, height=0.8, max_num_features=9)\n",
    "    ax.grid(False, axis=\"y\")\n",
    "    ax.set_title('Estimated feature importance')\n",
    "    plt.show()\n",
    "    \n",
    "    y_pred = dask_xgboost.predict(client, bst, X_test).persist()\n",
    "    \n",
    "    print()\n",
    "    print('Mean squared error (MSE): {:.2f}'.format(\n",
    "        mean_squared_error(y_test.compute(), y_pred.compute())))\n",
    "    print('Variance score (R2): {:.2f}'.format(\n",
    "        r2_score(y_test.compute(), y_pred.compute())))"
   ]
  },
  {
   "cell_type": "code",
   "execution_count": null,
   "metadata": {
    "scrolled": false
   },
   "outputs": [],
   "source": [
    "pipeline_xgb(hours_clean, 'total_bikes', client)"
   ]
  },
  {
   "cell_type": "markdown",
   "metadata": {},
   "source": [
    "#### Dask_ml.XGBoost"
   ]
  },
  {
   "cell_type": "markdown",
   "metadata": {},
   "source": [
    "Another pipeline is created using Dask_ml.XGBoost."
   ]
  },
  {
   "cell_type": "code",
   "execution_count": null,
   "metadata": {},
   "outputs": [],
   "source": [
    "def pipeline_daskml_xgb(df, target, algorithm):\n",
    "\n",
    "    features = list_features(df, target)\n",
    "    X, X_train, X_test, y, y_train, y_test = train_test_split_0(df, target, features)\n",
    "    algorithm.fit(X_train.values, y_train.values)\n",
    "    y_pred = algorithm.predict(X_test.values)\n",
    "\n",
    "    print()\n",
    "    print('Mean squared error (MSE): {:.2f}'.format(\n",
    "        mean_squared_error(y_test.compute(), y_pred.compute())))\n",
    "    print('Variance score (R2): {:.2f}'.format(\n",
    "        r2_score(y_test.compute(), y_pred.compute())))"
   ]
  },
  {
   "cell_type": "code",
   "execution_count": null,
   "metadata": {
    "scrolled": false
   },
   "outputs": [],
   "source": [
    "xgbreg = XGBRegressor()\n",
    "pipeline_daskml_xgb(hours_clean, 'total_bikes', xgbreg)"
   ]
  },
  {
   "cell_type": "markdown",
   "metadata": {},
   "source": [
    "#### Random Forest"
   ]
  },
  {
   "cell_type": "markdown",
   "metadata": {},
   "source": [
    "Another pipeline is created using Random Forest."
   ]
  },
  {
   "cell_type": "code",
   "execution_count": null,
   "metadata": {},
   "outputs": [],
   "source": [
    "def pipeline_rf(df, target, algorithm):\n",
    "\n",
    "    features = list_features(df, target)\n",
    "    X, X_train, X_test, y, y_train, y_test = train_test_split_0(df, target, features)\n",
    "    with parallel_backend('dask'):\n",
    "        algorithm.fit(X_train.values, y_train.values)\n",
    "        y_pred = algorithm.predict(X_test.values)\n",
    "\n",
    "    print()\n",
    "    print('Mean squared error (MSE): {:.2f}'.format(\n",
    "        mean_squared_error(y_test, y_pred)))\n",
    "    print('Variance score (R2): {:.2f}'.format(\n",
    "        algorithm.score(X_test, y_test)))"
   ]
  },
  {
   "cell_type": "code",
   "execution_count": null,
   "metadata": {
    "scrolled": true
   },
   "outputs": [],
   "source": [
    "regr = RandomForestRegressor(max_depth=2, random_state=0,n_estimators=100)\n",
    "pipeline_rf(hours_clean, 'total_bikes', regr)"
   ]
  },
  {
   "cell_type": "code",
   "execution_count": null,
   "metadata": {},
   "outputs": [],
   "source": []
  },
  {
   "cell_type": "code",
   "execution_count": null,
   "metadata": {},
   "outputs": [],
   "source": [
    "#\n",
    "#\n",
    "#\n",
    "#\n",
    "#\n",
    "#\n",
    "#\n",
    "#\n",
    "#\n",
    "#\n",
    "#\n",
    "#\n",
    "#\n",
    "#\n",
    "#\n",
    "#\n",
    "#\n",
    "#\n",
    "#\n",
    "#\n",
    "#\n",
    "#\n",
    "#\n",
    "#\n",
    "#\n",
    "#\n",
    "#\n",
    "#\n",
    "#\n",
    "#\n",
    "#\n",
    "#\n",
    "#\n",
    "#\n",
    "#\n",
    "#\n",
    "#\n",
    "#\n",
    "#\n",
    "#\n",
    "#\n",
    "#\n",
    "#\n",
    "#\n",
    "#\n",
    "#\n",
    "#\n",
    "#\n",
    "#\n",
    "#\n",
    "#\n",
    "#\n",
    "#\n",
    "#\n",
    "#\n",
    "#\n",
    "#\n",
    "#\n",
    "#\n",
    "wait = input(\"PRESS ENTER TO CONTINUE.\")"
   ]
  },
  {
   "cell_type": "code",
   "execution_count": null,
   "metadata": {},
   "outputs": [],
   "source": [
    "hours_FE_sel = hours_clean.copy()"
   ]
  },
  {
   "cell_type": "markdown",
   "metadata": {},
   "source": [
    "#### Day"
   ]
  },
  {
   "cell_type": "markdown",
   "metadata": {},
   "source": [
    "The variable `day` is added to understand if patterns exist based on specific dates."
   ]
  },
  {
   "cell_type": "code",
   "execution_count": null,
   "metadata": {
    "scrolled": false
   },
   "outputs": [],
   "source": [
    "# Add the day from 'date'\n",
    "hours_FE1 = pd.concat([hours_FE_sel.compute(), pd.DataFrame(pd.DatetimeIndex(\n",
    "    hours_df.compute()['date']).day)], axis=1, sort=False, ignore_index=False)\n",
    "hours_FE1.rename(columns={'date': 'day'}, inplace=True)\n",
    "\n",
    "hours_FE1 = dd.from_pandas(hours_FE1, npartitions=1)\n",
    "\n",
    "# Encode feature\n",
    "hours_FE1 = onehot_encode_single(hours_FE1, 'day')\n",
    "df_desc(hours_FE1.compute())"
   ]
  },
  {
   "cell_type": "code",
   "execution_count": null,
   "metadata": {
    "scrolled": true
   },
   "outputs": [],
   "source": [
    "pipeline(hours_FE1, 'total_bikes', lm, 10)"
   ]
  },
  {
   "cell_type": "markdown",
   "metadata": {},
   "source": [
    "This additional feature gives the same result as the baseline, with a cross validation mean of 0.76 (0.75 for the baseline) and a metric of 0.76 (0.76 for the baseline). With the number of added variables and the lack of score improvement, we reject this feature."
   ]
  },
  {
   "cell_type": "markdown",
   "metadata": {},
   "source": [
    "#### Month-Day"
   ]
  },
  {
   "cell_type": "markdown",
   "metadata": {},
   "source": [
    "The variable `month_day` is added to understand if patterns exist based on specific dates."
   ]
  },
  {
   "cell_type": "code",
   "execution_count": null,
   "metadata": {
    "scrolled": true
   },
   "outputs": [],
   "source": [
    "# Add month-day from 'date'\n",
    "hours_FE2 = pd.concat([hours_FE_sel, pd.DataFrame(pd.DatetimeIndex(\n",
    "    hours_df['date']).strftime('%m-%d'))], axis=1, sort=False, ignore_index=False)\n",
    "hours_FE2.rename(columns={0: 'month_day'}, inplace=True)\n",
    "\n",
    "# Encode feature\n",
    "hours_FE2 = onehot_encode_single(hours_FE2, 'month_day')\n",
    "df_desc(hours_FE2)"
   ]
  },
  {
   "cell_type": "code",
   "execution_count": null,
   "metadata": {
    "scrolled": true
   },
   "outputs": [],
   "source": [
    "pipeline(hours_FE2, 'total_bikes', lm, 10)"
   ]
  },
  {
   "cell_type": "markdown",
   "metadata": {},
   "source": [
    "This additional feature gives a similar result than the baseline, with a cross validation mean of 0.78 (0.75 for the baseline) and a metric of 0.75 (0.76 for the baseline). With the number of added variables and the lack of score improvement, we reject this feature."
   ]
  },
  {
   "cell_type": "markdown",
   "metadata": {},
   "source": [
    "#### Calculated Peaks"
   ]
  },
  {
   "cell_type": "markdown",
   "metadata": {},
   "source": [
    "The variable `calculated_peak` is added to flag the periods of typically high utilization."
   ]
  },
  {
   "cell_type": "code",
   "execution_count": null,
   "metadata": {
    "scrolled": true
   },
   "outputs": [],
   "source": [
    "hours_FE3 = hours_FE_sel.copy()\n",
    "\n",
    "# Set threshold to mean(Total_Bikes)+th based on Trial and Error appraoch\n",
    "th = 0.315\n",
    "\n",
    "\n",
    "def calculated_peaks(row, th):\n",
    "    if (row['total_bikes'] > (hours_FE3.total_bikes.mean() + th * hours_FE3.total_bikes.mean())):\n",
    "        return 1\n",
    "    else:\n",
    "        return 0\n",
    "\n",
    "\n",
    "hours_FE3['calculated_peak'] = hours_FE3.apply(\n",
    "    lambda row: calculated_peaks(row, th), axis=1)\n",
    "hours_FE3.calculated_peak.value_counts()"
   ]
  },
  {
   "cell_type": "code",
   "execution_count": null,
   "metadata": {
    "scrolled": true
   },
   "outputs": [],
   "source": [
    "pipeline(hours_FE3, 'total_bikes', lm, 10, plot=True)"
   ]
  },
  {
   "cell_type": "markdown",
   "metadata": {},
   "source": [
    "This additional feature significantly improves the score of the model, with a cross validation mean of 0.86 (0.75 for the baseline) and a metric of 0.87 (0.76 for the baseline). Thus, we accept this feature."
   ]
  },
  {
   "cell_type": "code",
   "execution_count": null,
   "metadata": {},
   "outputs": [],
   "source": [
    "hours_FE_sel = hours_FE3.copy()"
   ]
  },
  {
   "cell_type": "markdown",
   "metadata": {},
   "source": [
    "#### Difference with Season Average Temperature"
   ]
  },
  {
   "cell_type": "markdown",
   "metadata": {},
   "source": [
    "The variable `diff_season_avg_temp` is added to identify days with clement temperature compared to the seasonal average."
   ]
  },
  {
   "cell_type": "code",
   "execution_count": null,
   "metadata": {
    "scrolled": true
   },
   "outputs": [],
   "source": [
    "hours_FE4 = hours_FE_sel.copy()\n",
    "\n",
    "\n",
    "def diff_season_avg_temp_calc(df, row):\n",
    "    if (row['season_spring'] == 1):\n",
    "        return row['actual_temp'] - df.actual_temp[df.season_spring == 1].mean()\n",
    "\n",
    "    elif (row['season_winter'] == 1):\n",
    "        return row['actual_temp'] - df.actual_temp[df.season_winter == 1].mean()\n",
    "\n",
    "    elif (row['season_fall'] == 1):\n",
    "        return row['actual_temp'] - df.actual_temp[df.season_fall == 1].mean()\n",
    "\n",
    "    elif (row['season_summer'] == 1):\n",
    "        return row['actual_temp'] - df.actual_temp[df.season_summer == 1].mean()\n",
    "\n",
    "\n",
    "hours_FE4['diff_season_avg_temp'] = hours_FE4.apply(\n",
    "    lambda row: diff_season_avg_temp_calc(hours_FE4, row), axis=1)"
   ]
  },
  {
   "cell_type": "code",
   "execution_count": null,
   "metadata": {
    "scrolled": true
   },
   "outputs": [],
   "source": [
    "pipeline(hours_FE4, 'total_bikes', lm, 10)"
   ]
  },
  {
   "cell_type": "markdown",
   "metadata": {},
   "source": [
    "This additional feature gives a similar result than the previously selected features, with a cross validation mean of 0.86 (0.86 for the previously selected features) and a metric of 0.87 (0.87 for the previously selected features). With no clear score improvement, we reject this feature."
   ]
  },
  {
   "cell_type": "markdown",
   "metadata": {},
   "source": [
    "#### Difference with Monthly Average Temperature"
   ]
  },
  {
   "cell_type": "markdown",
   "metadata": {},
   "source": [
    "The variable `diff_month_avg_temp` is added to identify days with clement temperature compared to the monthly average."
   ]
  },
  {
   "cell_type": "code",
   "execution_count": null,
   "metadata": {
    "scrolled": true
   },
   "outputs": [],
   "source": [
    "hours_FE5 = hours_FE_sel.copy()\n",
    "\n",
    "\n",
    "def diff_month_avg_temp_calc(df, row):\n",
    "    if (row['month_jan'] == 1):\n",
    "        return row['actual_temp'] - df.actual_temp[df.month_jan == 1].mean()\n",
    "\n",
    "    elif (row['month_feb'] == 1):\n",
    "        return row['actual_temp'] - df.actual_temp[df.month_feb == 1].mean()\n",
    "\n",
    "    elif (row['month_mar'] == 1):\n",
    "        return row['actual_temp'] - df.actual_temp[df.month_mar == 1].mean()\n",
    "\n",
    "    elif (row['month_apr'] == 1):\n",
    "        return row['actual_temp'] - df.actual_temp[df.month_apr == 1].mean()\n",
    "\n",
    "    elif (row['month_may'] == 1):\n",
    "        return row['actual_temp'] - df.actual_temp[df.month_may == 1].mean()\n",
    "\n",
    "    elif (row['month_jun'] == 1):\n",
    "        return row['actual_temp'] - df.actual_temp[df.month_jun == 1].mean()\n",
    "\n",
    "    elif (row['month_jul'] == 1):\n",
    "        return row['actual_temp'] - df.actual_temp[df.month_jul == 1].mean()\n",
    "\n",
    "    elif (row['month_aug'] == 1):\n",
    "        return row['actual_temp'] - df.actual_temp[df.month_aug == 1].mean()\n",
    "\n",
    "    elif (row['month_sep'] == 1):\n",
    "        return row['actual_temp'] - df.actual_temp[df.month_sep == 1].mean()\n",
    "\n",
    "    elif (row['month_oct'] == 1):\n",
    "        return row['actual_temp'] - df.actual_temp[df.month_oct == 1].mean()\n",
    "\n",
    "    elif (row['month_nov'] == 1):\n",
    "        return row['actual_temp'] - df.actual_temp[df.month_nov == 1].mean()\n",
    "\n",
    "    elif (row['month_dec'] == 1):\n",
    "        return row['actual_temp'] - df.actual_temp[df.month_dec == 1].mean()\n",
    "\n",
    "\n",
    "hours_FE5['diff_month_avg_temp'] = hours_FE5.apply(\n",
    "    lambda row: diff_month_avg_temp_calc(hours_FE5, row), axis=1)"
   ]
  },
  {
   "cell_type": "code",
   "execution_count": null,
   "metadata": {
    "scrolled": true
   },
   "outputs": [],
   "source": [
    "pipeline(hours_FE5, 'total_bikes', lm, 10)"
   ]
  },
  {
   "cell_type": "markdown",
   "metadata": {},
   "source": [
    "This additional feature gives a similar result than the previously selected features, with a cross validation mean of 0.86 (0.86 for the previously selected features) and a metric of 0.87 (0.87 for the previously selected features). With no clear score improvement, we reject this feature."
   ]
  },
  {
   "cell_type": "markdown",
   "metadata": {},
   "source": [
    "#### Difference with Season Average Humidity"
   ]
  },
  {
   "cell_type": "markdown",
   "metadata": {},
   "source": [
    "The variable `diff_season_avg_humi` is added to identify days with clement humidity compared to the seasonal average."
   ]
  },
  {
   "cell_type": "code",
   "execution_count": null,
   "metadata": {
    "scrolled": true
   },
   "outputs": [],
   "source": [
    "hours_FE6 = hours_FE_sel.copy()\n",
    "\n",
    "\n",
    "def diff_season_avg_humi_calc(df, row):\n",
    "    if (row['season_spring'] == 1):\n",
    "        return row['humidity'] - df.humidity[df.season_spring == 1].mean()\n",
    "\n",
    "    elif (row['season_winter'] == 1):\n",
    "        return row['humidity'] - df.humidity[df.season_winter == 1].mean()\n",
    "\n",
    "    elif (row['season_fall'] == 1):\n",
    "        return row['humidity'] - df.humidity[df.season_fall == 1].mean()\n",
    "\n",
    "    elif (row['season_summer'] == 1):\n",
    "        return row['humidity'] - df.humidity[df.season_summer == 1].mean()\n",
    "\n",
    "\n",
    "hours_FE6['diff_season_avg_humi'] = hours_FE6.apply(\n",
    "    lambda row: diff_season_avg_humi_calc(hours_FE6, row), axis=1)"
   ]
  },
  {
   "cell_type": "code",
   "execution_count": null,
   "metadata": {
    "scrolled": true
   },
   "outputs": [],
   "source": [
    "pipeline(hours_FE6, 'total_bikes', lm, 10)"
   ]
  },
  {
   "cell_type": "markdown",
   "metadata": {},
   "source": [
    "This additional feature gives a similar result than the previously selected features, with a cross validation mean of 0.86 (0.86 for the previously selected features) and a metric of 0.87 (0.87 for the previously selected features). With no clear score improvement, we reject this feature."
   ]
  },
  {
   "cell_type": "markdown",
   "metadata": {},
   "source": [
    "#### Difference with Monthly Average Humidity"
   ]
  },
  {
   "cell_type": "markdown",
   "metadata": {},
   "source": [
    "The variable `diff_month_avg_humi` is added to identify days with clement humidity compared to the monthly average."
   ]
  },
  {
   "cell_type": "code",
   "execution_count": null,
   "metadata": {
    "scrolled": true
   },
   "outputs": [],
   "source": [
    "hours_FE7 = hours_FE_sel.copy()\n",
    "\n",
    "\n",
    "def diff_month_avg_humi_calc(df, row):\n",
    "    if (row['month_jan'] == 1):\n",
    "        return row['humidity'] - df.humidity[df.month_jan == 1].mean()\n",
    "\n",
    "    elif (row['month_feb'] == 1):\n",
    "        return row['humidity'] - df.humidity[df.month_feb == 1].mean()\n",
    "\n",
    "    elif (row['month_mar'] == 1):\n",
    "        return row['humidity'] - df.humidity[df.month_mar == 1].mean()\n",
    "\n",
    "    elif (row['month_apr'] == 1):\n",
    "        return row['humidity'] - df.humidity[df.month_apr == 1].mean()\n",
    "\n",
    "    elif (row['month_may'] == 1):\n",
    "        return row['humidity'] - df.humidity[df.month_may == 1].mean()\n",
    "\n",
    "    elif (row['month_jun'] == 1):\n",
    "        return row['humidity'] - df.humidity[df.month_jun == 1].mean()\n",
    "\n",
    "    elif (row['month_jul'] == 1):\n",
    "        return row['humidity'] - df.humidity[df.month_jul == 1].mean()\n",
    "\n",
    "    elif (row['month_aug'] == 1):\n",
    "        return row['humidity'] - df.humidity[df.month_aug == 1].mean()\n",
    "\n",
    "    elif (row['month_sep'] == 1):\n",
    "        return row['humidity'] - df.humidity[df.month_sep == 1].mean()\n",
    "\n",
    "    elif (row['month_oct'] == 1):\n",
    "        return row['humidity'] - df.humidity[df.month_oct == 1].mean()\n",
    "\n",
    "    elif (row['month_nov'] == 1):\n",
    "        return row['humidity'] - df.humidity[df.month_nov == 1].mean()\n",
    "\n",
    "    elif (row['month_dec'] == 1):\n",
    "        return row['humidity'] - df.humidity[df.month_dec == 1].mean()\n",
    "\n",
    "\n",
    "hours_FE7['diff_month_avg_humi'] = hours_FE7.apply(\n",
    "    lambda row: diff_month_avg_humi_calc(hours_FE7, row), axis=1)"
   ]
  },
  {
   "cell_type": "code",
   "execution_count": null,
   "metadata": {
    "scrolled": true
   },
   "outputs": [],
   "source": [
    "pipeline(hours_FE7, 'total_bikes', lm, 10)"
   ]
  },
  {
   "cell_type": "markdown",
   "metadata": {},
   "source": [
    "This additional feature gives a similar result than the previously selected features, with a cross validation mean of 0.86 (0.86 for the previously selected features) and a metric of 0.87 (0.87 for the previously selected features). With no clear score improvement, we reject this feature."
   ]
  },
  {
   "cell_type": "markdown",
   "metadata": {},
   "source": [
    "#### Polynomial Features"
   ]
  },
  {
   "cell_type": "markdown",
   "metadata": {},
   "source": [
    "The polynomial variables `actual_temp_poly_2`, `actual_temp_poly_3`, `humidity_poly_2`, `humidity_poly_3`, `windspeed_poly_2`, `windspeed_poly_3` are added to identify potential polynomial relationship between the target and the corresponding variables."
   ]
  },
  {
   "cell_type": "code",
   "execution_count": null,
   "metadata": {
    "scrolled": true
   },
   "outputs": [],
   "source": [
    "hours_FE8 = hours_FE_sel.copy()\n",
    "degree = 3\n",
    "poly = PolynomialFeatures(degree)\n",
    "list_var = ['actual_temp', 'humidity', 'windspeed']\n",
    "\n",
    "\n",
    "def add_poly(df, degree, list_var):\n",
    "    poly = PolynomialFeatures(degree)\n",
    "    for var in list_var:\n",
    "        poly_mat = poly.fit_transform(df[var].values.reshape(-1, 1))\n",
    "        for i in range(2, degree+1):\n",
    "            df[var + '_poly_' + str(i)] = poly_mat[:, i]\n",
    "\n",
    "\n",
    "add_poly(hours_FE8, degree, list_var)"
   ]
  },
  {
   "cell_type": "code",
   "execution_count": null,
   "metadata": {
    "scrolled": true
   },
   "outputs": [],
   "source": [
    "pipeline(hours_FE8, 'total_bikes', lm, 10)"
   ]
  },
  {
   "cell_type": "markdown",
   "metadata": {},
   "source": [
    "This additional feature gives a similar result than the previously selected features, with a cross validation mean of 0.86 (0.86 for the previously selected features) and a metric of 0.87 (0.87 for the previously selected features). With no clear score improvement, we reject this feature."
   ]
  },
  {
   "cell_type": "markdown",
   "metadata": {},
   "source": [
    "#### Hours Bins"
   ]
  },
  {
   "cell_type": "markdown",
   "metadata": {},
   "source": [
    "The hour variables seem to be important for the model, but they are numerous. In order to reduce the number of variables, they will be binned into similar ranges."
   ]
  },
  {
   "cell_type": "code",
   "execution_count": null,
   "metadata": {
    "scrolled": true
   },
   "outputs": [],
   "source": [
    "hours_FE9 = hours_FE_sel.copy()\n",
    "\n",
    "\n",
    "def bin_hours(row):\n",
    "    if (row['hour_0'] == 1) | (row['hour_1'] == 1) | (row['hour_2'] == 1) | (row['hour_3'] == 1):\n",
    "        return '00-03'\n",
    "\n",
    "    if (row['hour_4'] == 1) | (row['hour_5'] == 1) | (row['hour_6'] == 1) | (row['hour_7'] == 1):\n",
    "        return '04-07'\n",
    "\n",
    "    if (row['hour_8'] == 1) | (row['hour_9'] == 1) | (row['hour_10'] == 1) | (row['hour_11'] == 1):\n",
    "        return '08-11'\n",
    "\n",
    "    if (row['hour_12'] == 1) | (row['hour_13'] == 1) | (row['hour_14'] == 1) | (row['hour_15'] == 1):\n",
    "        return '12-15'\n",
    "\n",
    "    if (row['hour_16'] == 1) | (row['hour_17'] == 1) | (row['hour_18'] == 1) | (row['hour_19'] == 1):\n",
    "        return '16-19'\n",
    "\n",
    "    if (row['hour_20'] == 1) | (row['hour_21'] == 1) | (row['hour_22'] == 1) | (row['hour_23'] == 1):\n",
    "        return '20-23'\n",
    "\n",
    "\n",
    "hours_FE9['hours'] = hours_FE9.apply(lambda row: bin_hours(row), axis=1)\n",
    "hours_FE9.hours.value_counts()"
   ]
  },
  {
   "cell_type": "code",
   "execution_count": null,
   "metadata": {
    "scrolled": true
   },
   "outputs": [],
   "source": [
    "hours_FE9 = onehot_encode_single(hours_FE9, 'hours')\n",
    "hours_FE9.drop(['hour_0', 'hour_1', 'hour_2', 'hour_3', 'hour_4', 'hour_5', 'hour_6', 'hour_7', 'hour_8', 'hour_9', 'hour_10', 'hour_11', 'hour_12',\n",
    "                'hour_13', 'hour_14', 'hour_15', 'hour_16', 'hour_17', 'hour_18', 'hour_19', 'hour_20', 'hour_21', 'hour_22', 'hour_23'], axis=1, inplace=True)\n",
    "df_desc(hours_FE9)"
   ]
  },
  {
   "cell_type": "code",
   "execution_count": null,
   "metadata": {
    "scrolled": true
   },
   "outputs": [],
   "source": [
    "pipeline(hours_FE9, 'total_bikes', lm, 10, plot=True)"
   ]
  },
  {
   "cell_type": "code",
   "execution_count": null,
   "metadata": {},
   "outputs": [],
   "source": [
    "hours_FE_sel_lite = hours_FE9.copy()"
   ]
  },
  {
   "cell_type": "markdown",
   "metadata": {},
   "source": [
    "This additional feature decreases slightly the results with the previously selected features, with a cross validation mean of 0.81 (0.86 for the previously selected features) and a metric of 0.83 (0.87 for the previously selected features). However, it decreases significantly the number of features from 59 to 40. The resulting dataset will be kept to be tested during the Features Selection phase."
   ]
  },
  {
   "cell_type": "markdown",
   "metadata": {},
   "source": [
    "### Features Selection"
   ]
  },
  {
   "cell_type": "code",
   "execution_count": null,
   "metadata": {
    "scrolled": true
   },
   "outputs": [],
   "source": [
    "print('{:<9} {:>6} {:>6} {:>3} {:>6}'.format('Dataset:',\n",
    "                                             hours_FE_sel.shape[0], 'rows |', hours_FE_sel.shape[1], 'columns'))\n",
    "print()\n",
    "pipeline(hours_FE_sel, 'total_bikes', lm, 10, plot=True)"
   ]
  },
  {
   "cell_type": "markdown",
   "metadata": {},
   "source": [
    "The dataset resulting from the Feature Engineering phase contains 58 features, with a model reaching the accuracy of 0.87. The Feature Selection phase aims to reduce the number of variables used by the model."
   ]
  },
  {
   "cell_type": "markdown",
   "metadata": {},
   "source": [
    "#### Recursive Feature Elimination (Model A)"
   ]
  },
  {
   "cell_type": "markdown",
   "metadata": {},
   "source": [
    "The Recursive Feature Elimination (RFE) method is used to select the most relevant features for the model. In order to find which number of features provides the best score, the dataset will be tested against each possibility."
   ]
  },
  {
   "cell_type": "code",
   "execution_count": null,
   "metadata": {},
   "outputs": [],
   "source": [
    "def pipeline_rfe_multi(df, target, algorithm, range_def, scores):\n",
    "    features = list_features(df, target)\n",
    "    X, X_train, X_test, y, y_train, y_test = train_test_split_0(\n",
    "        df, target, features)\n",
    "    print('Iterations:')\n",
    "    for i in range_def:\n",
    "        rfe = RFE(algorithm, i)\n",
    "        rfe = rfe.fit(X, y.values.ravel())\n",
    "\n",
    "        cols_rfe = list(X.loc[:, rfe.support_])\n",
    "        X_rfe_sel = X_train[cols_rfe]\n",
    "        X_rfe_test_sel = X_test[cols_rfe]\n",
    "\n",
    "        algorithm.fit(X_rfe_sel, y_train)\n",
    "        y_pred = algorithm.predict(X_rfe_test_sel)\n",
    "\n",
    "        result_model = [i, '{:.2f}'.format(r2_score(y_test, y_pred)), cols_rfe]\n",
    "        scores.loc[i] = result_model\n",
    "        print(i, end='   ')"
   ]
  },
  {
   "cell_type": "code",
   "execution_count": null,
   "metadata": {
    "scrolled": false
   },
   "outputs": [],
   "source": [
    "scores = pd.DataFrame(columns=['features', 'score', 'cols'])\n",
    "range_def = range(1, len(hours_FE_sel.columns))\n",
    "pipeline_rfe_multi(hours_FE_sel, 'total_bikes', lm, range_def, scores)"
   ]
  },
  {
   "cell_type": "code",
   "execution_count": null,
   "metadata": {
    "scrolled": true
   },
   "outputs": [],
   "source": [
    "scores['features'] = scores['features'].astype('float')\n",
    "scores['score'] = scores['score'].astype('float')"
   ]
  },
  {
   "cell_type": "code",
   "execution_count": null,
   "metadata": {},
   "outputs": [],
   "source": [
    "scores.to_csv('assets/scores/scores_FE_sel.csv')"
   ]
  },
  {
   "cell_type": "code",
   "execution_count": null,
   "metadata": {
    "scrolled": true
   },
   "outputs": [],
   "source": [
    "# Line Plot\n",
    "plt.figure(figsize=(15, 5))\n",
    "sns.lineplot(x=scores['features'],\n",
    "             y=scores['score'],\n",
    "             color='steelblue')\n",
    "plt.tight_layout()"
   ]
  },
  {
   "cell_type": "code",
   "execution_count": null,
   "metadata": {
    "scrolled": false
   },
   "outputs": [],
   "source": [
    "scores.nlargest(10, 'score')"
   ]
  },
  {
   "cell_type": "code",
   "execution_count": null,
   "metadata": {},
   "outputs": [],
   "source": [
    "set(scores.iloc[57]['cols']) - set(scores.iloc[53]['cols'])"
   ]
  },
  {
   "cell_type": "markdown",
   "metadata": {},
   "source": [
    "The RFE offers to reduce the number of features to 54 without degrading significantly the performance of the model. The numerical weather variables and the working day flag are the first ones to be dropped by the RFE algorithm for a score of 0.86."
   ]
  },
  {
   "cell_type": "code",
   "execution_count": null,
   "metadata": {},
   "outputs": [],
   "source": [
    "hours_FE_sel_afterRFE = hours_FE_sel.copy()"
   ]
  },
  {
   "cell_type": "code",
   "execution_count": null,
   "metadata": {},
   "outputs": [],
   "source": [
    "hours_FE_sel_afterRFE.drop(\n",
    "    ['actual_temp', 'humidity', 'windspeed', 'workingday_yes'], axis=1, inplace=True)"
   ]
  },
  {
   "cell_type": "code",
   "execution_count": null,
   "metadata": {
    "scrolled": true
   },
   "outputs": [],
   "source": [
    "print('{:<9} {:>6} {:>6} {:>3} {:>6}'.format('Dataset:',\n",
    "                                             hours_FE_sel_afterRFE.shape[0], 'rows |', hours_FE_sel_afterRFE.shape[1], 'columns'))\n",
    "print()\n",
    "pipeline(hours_FE_sel_afterRFE, 'total_bikes', lm, 10, plot=True)"
   ]
  },
  {
   "cell_type": "markdown",
   "metadata": {},
   "source": [
    "#### Recursive Feature Elimination on *Lite* Dataset"
   ]
  },
  {
   "cell_type": "markdown",
   "metadata": {},
   "source": [
    "The *lite* version using the binned hours will be tested."
   ]
  },
  {
   "cell_type": "code",
   "execution_count": null,
   "metadata": {
    "scrolled": false
   },
   "outputs": [],
   "source": [
    "scores_lite = pd.DataFrame(columns=['features', 'score', 'cols'])\n",
    "range_def = range(1, len(hours_FE_sel_lite.columns))\n",
    "pipeline_rfe_multi(hours_FE_sel_lite, 'total_bikes',\n",
    "                   lm, range_def, scores_lite)"
   ]
  },
  {
   "cell_type": "code",
   "execution_count": null,
   "metadata": {
    "scrolled": true
   },
   "outputs": [],
   "source": [
    "scores_lite['features'] = scores_lite['features'].astype('float')\n",
    "scores_lite['score'] = scores_lite['score'].astype('float')"
   ]
  },
  {
   "cell_type": "code",
   "execution_count": null,
   "metadata": {},
   "outputs": [],
   "source": [
    "scores_lite.to_csv('assets/scores/scores_FE_sel_lite.csv')"
   ]
  },
  {
   "cell_type": "code",
   "execution_count": null,
   "metadata": {
    "scrolled": true
   },
   "outputs": [],
   "source": [
    "# Line Plot\n",
    "plt.figure(figsize=(15, 5))\n",
    "sns.lineplot(x=scores_lite['features'],\n",
    "             y=scores_lite['score'],\n",
    "             color='steelblue')\n",
    "plt.tight_layout()"
   ]
  },
  {
   "cell_type": "code",
   "execution_count": null,
   "metadata": {
    "scrolled": false
   },
   "outputs": [],
   "source": [
    "scores_lite.nlargest(10, 'score')"
   ]
  },
  {
   "cell_type": "code",
   "execution_count": null,
   "metadata": {},
   "outputs": [],
   "source": [
    "set(scores_lite.iloc[39]['cols']) - set(scores_lite.iloc[35]['cols'])"
   ]
  },
  {
   "cell_type": "markdown",
   "metadata": {},
   "source": [
    "The score can be 0.82 with only 36 features. The numerical weather variables and the working day flag are the first ones to be dropped by the RFE algorithm."
   ]
  },
  {
   "cell_type": "markdown",
   "metadata": {},
   "source": [
    "#### Manual Selection (Model B)"
   ]
  },
  {
   "cell_type": "markdown",
   "metadata": {},
   "source": [
    "Some features seem to have a lower importance for the model. They will be manually removed from the dataset to see how the score gets degrated:  \n",
    "- The meteorological features would simplify the inputs for the model, if removed. Thus, `actual_temp`, `humidity`, `windspeed` and the `weather_condition` categorical variables will be removed.  \n",
    "- The `workingday_yes` variable is also removed, as it most of the time duplicates information already conveyed by the weekdays and predefined peak variables - it would need to compromise with a loss of performance on holidays.  \n",
    "- The seasons variables also most of the time are doublons with the months variables - not using them would only sacrifice on some performance for the few weeks  "
   ]
  },
  {
   "cell_type": "code",
   "execution_count": null,
   "metadata": {},
   "outputs": [],
   "source": [
    "hours_manual = hours_FE_sel.copy()\n",
    "hours_manual.drop(['actual_temp', 'humidity', 'windspeed', 'weather_condition_clear',\n",
    "                   'weather_condition_mist', 'weather_condition_light_rain', 'weather_condition_heavy_rain',\n",
    "                   'workingday_yes',\n",
    "                   'season_fall', 'season_summer', 'season_spring', 'season_winter'], axis=1, inplace=True)"
   ]
  },
  {
   "cell_type": "code",
   "execution_count": null,
   "metadata": {
    "scrolled": false
   },
   "outputs": [],
   "source": [
    "scores_manual = pd.DataFrame(columns=['features', 'score', 'cols'])\n",
    "range_def = range(1, len(hours_manual.columns))\n",
    "pipeline_rfe_multi(hours_manual, 'total_bikes', lm, range_def, scores_manual)"
   ]
  },
  {
   "cell_type": "code",
   "execution_count": null,
   "metadata": {
    "scrolled": true
   },
   "outputs": [],
   "source": [
    "scores_manual['features'] = scores_manual['features'].astype('float')\n",
    "scores_manual['score'] = scores_manual['score'].astype('float')"
   ]
  },
  {
   "cell_type": "code",
   "execution_count": null,
   "metadata": {},
   "outputs": [],
   "source": [
    "scores_manual.to_csv('assets/scores/scores_manual.csv')"
   ]
  },
  {
   "cell_type": "code",
   "execution_count": null,
   "metadata": {
    "scrolled": true
   },
   "outputs": [],
   "source": [
    "# Line Plot\n",
    "plt.figure(figsize=(15, 5))\n",
    "sns.lineplot(x=scores_manual['features'],\n",
    "             y=scores_manual['score'],\n",
    "             color='steelblue')\n",
    "plt.tight_layout()"
   ]
  },
  {
   "cell_type": "code",
   "execution_count": null,
   "metadata": {
    "scrolled": false
   },
   "outputs": [],
   "source": [
    "scores_manual.nlargest(10, 'score')"
   ]
  },
  {
   "cell_type": "code",
   "execution_count": null,
   "metadata": {},
   "outputs": [],
   "source": [
    "set(scores_manual.iloc[45]['cols']) - set(scores_manual.iloc[44]['cols'])"
   ]
  },
  {
   "cell_type": "code",
   "execution_count": null,
   "metadata": {
    "scrolled": true
   },
   "outputs": [],
   "source": [
    "pipeline(hours_manual, 'total_bikes', lm, 10, plot=True)"
   ]
  },
  {
   "cell_type": "markdown",
   "metadata": {},
   "source": [
    "Using a simpllified hours notation and keeping only information of time and peaks allow the model to reach a score of 0.85 with only 46 variables. It is also important to note that the additional feature describing the utilization peaks allow the score to jump from 0.59 to 0.85."
   ]
  },
  {
   "cell_type": "markdown",
   "metadata": {},
   "source": [
    "#### Manual Selection with Rain information"
   ]
  },
  {
   "cell_type": "code",
   "execution_count": null,
   "metadata": {},
   "outputs": [],
   "source": [
    "hours_manual_rain = hours_FE_sel.copy()\n",
    "hours_manual_rain.drop(['actual_temp', 'humidity', 'windspeed',\n",
    "                        'workingday_yes',\n",
    "                        'season_fall', 'season_summer', 'season_spring', 'season_winter'], axis=1, inplace=True)"
   ]
  },
  {
   "cell_type": "code",
   "execution_count": null,
   "metadata": {
    "scrolled": true
   },
   "outputs": [],
   "source": [
    "pipeline(hours_manual_rain, 'total_bikes', lm, 10, plot=True)"
   ]
  },
  {
   "cell_type": "markdown",
   "metadata": {},
   "source": [
    "Adding back the rain information `weather_condition`, the model can integrate a simple weather input to slightly precise its predictions and reach a score of 0.86. The model now uses 50 features."
   ]
  },
  {
   "cell_type": "markdown",
   "metadata": {},
   "source": [
    "#### Manual Selection with Full Weather information"
   ]
  },
  {
   "cell_type": "code",
   "execution_count": null,
   "metadata": {},
   "outputs": [],
   "source": [
    "hours_manual_full_weather = hours_FE_sel.copy()\n",
    "hours_manual_full_weather.drop(['workingday_yes',\n",
    "                                'season_fall', 'season_summer', 'season_spring', 'season_winter'], axis=1, inplace=True)"
   ]
  },
  {
   "cell_type": "code",
   "execution_count": null,
   "metadata": {
    "scrolled": true
   },
   "outputs": [],
   "source": [
    "pipeline(hours_manual_full_weather, 'total_bikes', lm, 10, plot=True)"
   ]
  },
  {
   "cell_type": "markdown",
   "metadata": {},
   "source": [
    "If a more precise meteorological information is taken in account, the model keeps the score of 0.86 with 53 features."
   ]
  },
  {
   "cell_type": "markdown",
   "metadata": {},
   "source": [
    "## Final Metric"
   ]
  },
  {
   "cell_type": "markdown",
   "metadata": {},
   "source": [
    "The Feature Selection phase suggested several acceptable models, which mainly differ on the number of features used and the resulting performance. Depending on the accuracy expected by the business, one of these models will be selected:  \n",
    "\n",
    "1. Model with Time and Peaks information - Model B:  \n",
    "Score: 0.85 | Features: 46    \n",
    "\n",
    "\n",
    "2. Model with Time, Peaks and Rain information:  \n",
    "Score: 0.86 | Features: 50  \n",
    "\n",
    "\n",
    "3. Model with Time, Peaks and Full Weather information and Binned Hours:  \n",
    "Score: 0.86 | Features: 53  \n",
    "\n",
    "\n",
    "4. Complete Model with Binned Hours:  \n",
    "Score: 0.82 | Features: 36  \n",
    "\n",
    "\n",
    "5. Complete Model - Model A:  \n",
    "Score: 0.86 | Features: 54  \n",
    "\n",
    "\n",
    "Based on the predictions and the way they fit the actual values, the models A and B are preferable."
   ]
  },
  {
   "cell_type": "code",
   "execution_count": null,
   "metadata": {},
   "outputs": [],
   "source": [
    "def pipeline_short(df, target, algorithm, n_splits=10, plot=True):\n",
    "\n",
    "    features = list_features(df, target)\n",
    "    X, X_train, X_test, y, y_train, y_test = train_test_split_0(\n",
    "        df, target, features)\n",
    "#     cross_val_ts(algorithm,X_train, y_train, n_splits)\n",
    "    lm.fit(X_train, y_train)\n",
    "    y_pred = lm.predict(X_test)\n",
    "\n",
    "    y_test_prep = pd.concat([y_test, pd.DataFrame(pd.DatetimeIndex(\n",
    "        hours_df['date']).strftime('%Y-%m-%d'))], axis=1, sort=False, ignore_index=False)\n",
    "    y_test_prep = y_test_prep.dropna()\n",
    "    y_test_prep = y_test_prep.set_index(0)\n",
    "    y_pred_prep = pd.DataFrame(y_pred)\n",
    "    y_total_prep = pd.concat([y_test_prep.reset_index(\n",
    "        drop=False), y_pred_prep.reset_index(drop=True)], axis=1)\n",
    "    y_total_prep.columns = [\n",
    "        'Date', 'Actual Total Bikes', 'Predicted Total Bikes']\n",
    "    y_total_prep = y_total_prep.set_index('Date')\n",
    "\n",
    "#     print()\n",
    "#     print('Intercept:', lm.intercept_)\n",
    "#     print('Coefficients:', lm.coef_)\n",
    "#     print('Mean squared error (MSE): {:.2f}'.format(mean_squared_error(y_test, y_pred)))\n",
    "    print('Variance score (R2): {:.2f}'.format(r2_score(y_test, y_pred)))\n",
    "\n",
    "    if (plot == True):\n",
    "        plt.figure(figsize=(15, 5))\n",
    "        g = sns.lineplot(data=y_total_prep, ci=None, lw=1, dashes=False)\n",
    "        g.set_xticks(['2012-09-01', '2012-10-01',\n",
    "                      '2012-11-01', '2012-12-01', '2012-12-31'])\n",
    "        g.legend(loc='lower left', ncol=1)\n",
    "        plt.tight_layout()"
   ]
  },
  {
   "cell_type": "code",
   "execution_count": null,
   "metadata": {
    "scrolled": false
   },
   "outputs": [],
   "source": [
    "print('#### Model A ####')\n",
    "pipeline_short(hours_FE_sel_afterRFE, 'total_bikes', lm, 10, plot=True)"
   ]
  },
  {
   "cell_type": "code",
   "execution_count": null,
   "metadata": {
    "scrolled": false
   },
   "outputs": [],
   "source": [
    "print('#### Model B ####')\n",
    "pipeline_short(hours_manual, 'total_bikes', lm, 10, plot=True)"
   ]
  },
  {
   "cell_type": "markdown",
   "metadata": {},
   "source": [
    "The Model A is better at predicting the peaks, which would ensure there will be no shortage and a better service level for the users.  \n",
    "\n",
    "The Model B is much more simple, as it doesn't consider the weather parameters. It is still a good model and seems to be more stable with less variations.  \n",
    "\n",
    "**A conservative approach would prefer the Model A to provide the best service to the bike sharing service users.**"
   ]
  },
  {
   "cell_type": "markdown",
   "metadata": {},
   "source": [
    "## Further Work"
   ]
  },
  {
   "cell_type": "markdown",
   "metadata": {},
   "source": [
    "A couple of ideas to improve the models and get them ready for production:\n",
    "\n",
    "- The `Calculated Peaks` feature should be set up to use a moving average instead of a global mean. It would allow the model to adapt to the latest trend, especially if the utilization gets higher every year.\n",
    "- More exploration of the `Day` and `Month-Day` features might be possible, if using the elapsed percentage of the month or different periods such as 4-weeks periods, to adapt to the local practices.\n",
    "- Other algorithms could be applied on top of the linear regression to improve the model score and get more precise predictions. However, the benefits from a very precise model would need to be evaluated, as it might not be relevant compared to the response time of the operations and logistics of the bike sharing system.  "
   ]
  },
  {
   "cell_type": "markdown",
   "metadata": {},
   "source": [
    "***\n",
    "\n",
    "*Ashley O'Mahony | [ashleyomahony.com](http://ashleyomahony.com) | May 2019*  \n",
    "\n",
    "***"
   ]
  },
  {
   "cell_type": "code",
   "execution_count": null,
   "metadata": {},
   "outputs": [],
   "source": []
  }
 ],
 "metadata": {
  "kernelspec": {
   "display_name": "Python 3",
   "language": "python",
   "name": "python3"
  },
  "language_info": {
   "codemirror_mode": {
    "name": "ipython",
    "version": 3
   },
   "file_extension": ".py",
   "mimetype": "text/x-python",
   "name": "python",
   "nbconvert_exporter": "python",
   "pygments_lexer": "ipython3",
   "version": "3.7.2"
  },
  "toc": {
   "base_numbering": 1,
   "nav_menu": {
    "height": "432px",
    "width": "339px"
   },
   "number_sections": true,
   "sideBar": true,
   "skip_h1_title": true,
   "title_cell": "Table of Contents",
   "title_sidebar": "Contents",
   "toc_cell": false,
   "toc_position": {
    "height": "calc(100% - 180px)",
    "left": "10px",
    "top": "150px",
    "width": "360px"
   },
   "toc_section_display": true,
   "toc_window_display": false
  }
 },
 "nbformat": 4,
 "nbformat_minor": 2
}
